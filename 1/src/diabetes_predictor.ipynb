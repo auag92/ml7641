{
 "cells": [
  {
   "cell_type": "markdown",
   "metadata": {},
   "source": [
    "# Identify patients diagnosed with Type 2 Diabetes\n",
    "\n",
    "In the first phase of this prediction challenge Practice Fusion invited anyone with an interest in using electronic medical record data to improve public health to submit and vote on ideas for prediction problems based on a new dataset of 10,000 de-identified medical records. The votes are in and Shea Parkes' top voted submission has won.\n",
    "\n",
    "Practice Fusion is now sponsoring the second and final phase of the challenge inspired by the winning problem: Identify patients diagnosed with Type 2 Diabetes Mellitus.\n",
    "\n",
    "Over 25 million people, or nearly 8.3% of the entire United States population, have diabetes. Diabetes is also associated with a wide range of complications from heart disease and stroke to blindness and kidney disease. Predicting who has diabetes will lead to a better understanding of these complications and the common comorbidities that diabetics suffer.\n",
    "\n",
    "The Challenge: Given a de-identified data set of patient electronic health records, build a model to determine who has a diabetes diagnosis, as defined by ICD9 codes 250, 250.0, 250.*0 or 250.*2 (e.g., 250, 250.0, 250.00, 250.10, 250.52, etc).\n",
    "    \n",
    "[Challenge Link](https://www.kaggle.com/c/pf2012-diabetes)\n",
    "\n",
    "I want to be able to do the false positive and false negative analysis.\n",
    "\n",
    "Any other analysis which will be relavant to medical dataset in particular."
   ]
  },
  {
   "cell_type": "code",
   "execution_count": 45,
   "metadata": {
    "collapsed": true
   },
   "outputs": [],
   "source": [
    "#ignore warnings\n",
    "import warnings\n",
    "warnings.filterwarnings('ignore')\n",
    "\n",
    "#for table-like data and matrices\n",
    "import numpy as np\n",
    "import pandas as pd\n",
    "\n",
    "#Visualisations\n",
    "import matplotlib as mpl\n",
    "import matplotlib.pylab as pylab\n",
    "import matplotlib.pyplot as plt\n",
    "import seaborn as sns\n",
    "\n",
    "import datetime\n",
    "\n",
    "#Configure Visualisations\n",
    "%matplotlib inline\n",
    "mpl.style.use( 'ggplot' )\n",
    "sns.set_style( 'white' )\n",
    "pylab.rcParams[ 'figure.figsize' ] = 8 , 6"
   ]
  },
  {
   "cell_type": "code",
   "execution_count": 2,
   "metadata": {
    "collapsed": true
   },
   "outputs": [],
   "source": [
    "def plot_histograms( df , variables , n_rows , n_cols ):\n",
    "    fig = plt.figure( figsize = ( 16 , 12 ) )\n",
    "    for i, var_name in enumerate( variables ):\n",
    "        ax=fig.add_subplot( n_rows , n_cols , i+1 )\n",
    "        df[ var_name ].hist( bins=10 , ax=ax )\n",
    "        ax.set_title( 'Skew: ' + str( round( float( df[ var_name ].skew() ) , ) ) ) # + ' ' + var_name ) #var_name+\" Distribution\")\n",
    "        ax.set_xticklabels( [] , visible=False )\n",
    "        ax.set_yticklabels( [] , visible=False )\n",
    "    fig.tight_layout()  # Improves appearance a bit.\n",
    "    plt.show()\n",
    "\n",
    "def plot_distribution( df , var , target , **kwargs ):\n",
    "    row = kwargs.get( 'row' , None )\n",
    "    col = kwargs.get( 'col' , None )\n",
    "    facet = sns.FacetGrid( df , hue=target , aspect=4 , row = row , col = col )\n",
    "    facet.map( sns.kdeplot , var , shade= True )\n",
    "    facet.set( xlim=( 0 , df[ var ].max() ) )\n",
    "    facet.add_legend()\n",
    "\n",
    "def plot_categories( df , cat , target , **kwargs ):\n",
    "    row = kwargs.get( 'row' , None )\n",
    "    col = kwargs.get( 'col' , None )\n",
    "    facet = sns.FacetGrid( df , row = row , col = col )\n",
    "    facet.map( sns.barplot , cat , target )\n",
    "    facet.add_legend()\n",
    "\n",
    "def plot_correlation_map( df ):\n",
    "    corr = df.corr()\n",
    "    _ , ax = plt.subplots( figsize =( 12 , 10 ) )\n",
    "    cmap = sns.diverging_palette( 220 , 10 , as_cmap = True )\n",
    "    _ = sns.heatmap(\n",
    "        corr, \n",
    "        cmap = cmap,\n",
    "        square=True, \n",
    "        cbar_kws={ 'shrink' : .9 }, \n",
    "        ax=ax, \n",
    "        annot = True, \n",
    "        annot_kws = { 'fontsize' : 12 }\n",
    "    )\n",
    "\n",
    "def describe_more( df ):\n",
    "\n",
    "    var = [] ; l = [] ; t = []\n",
    "    for x in df:\n",
    "        var.append( x )\n",
    "        l.append( len( pd.value_counts( df[ x ] ) ) )\n",
    "        t.append( df[ x ].dtypes )\n",
    "    levels = pd.DataFrame( { 'Variable' : var , 'Levels' : l , 'Datatype' : t } )\n",
    "    levels.sort_values( by = 'Levels' , inplace = True )\n",
    "    return levels    \n",
    "    \n",
    "\n",
    "def plot_variable_importance( X , y ):\n",
    "    tree = DecisionTreeClassifier( random_state = 99 )\n",
    "    tree.fit( X , y )\n",
    "    plot_model_var_imp( tree , X , y )\n",
    "    \n",
    "def plot_model_var_imp( model , X , y ):\n",
    "    imp = pd.DataFrame( \n",
    "        model.feature_importances_  , \n",
    "        columns = [ 'Importance' ] , \n",
    "        index = X.columns \n",
    "    )\n",
    "    imp = imp.sort_values( [ 'Importance' ] , ascending = True )\n",
    "    imp[ : 10 ].plot( kind = 'barh' )\n",
    "    print (model.score( X , y ))\n",
    "    \n",
    "def print_full(x):\n",
    "    pd.set_option('display.max_rows', len(x))\n",
    "    print(x)\n",
    "    pd.reset_option('display.max_rows')"
   ]
  },
  {
   "cell_type": "code",
   "execution_count": 3,
   "metadata": {
    "collapsed": false
   },
   "outputs": [],
   "source": [
    "train  = pd.read_csv(\"./input/train.csv\")\n",
    "test   = pd.read_csv(\"./input/test.csv\")\n",
    "frames = [train, test]\n",
    "indata = pd.concat(frames)"
   ]
  },
  {
   "cell_type": "markdown",
   "metadata": {},
   "source": [
    "# Dataset Description\n",
    "\n",
    "The dataset has 9947 datapoints with 27 features each.\n",
    "\n",
    "The features belong to a particular medical code thingy which needs to be properly explained here.\n",
    "\n"
   ]
  },
  {
   "cell_type": "code",
   "execution_count": 6,
   "metadata": {
    "collapsed": false
   },
   "outputs": [
    {
     "name": "stdout",
     "output_type": "stream",
     "text": [
      "# of rows 9947\n",
      "# of columns 27\n"
     ]
    },
    {
     "data": {
      "text/html": [
       "<div>\n",
       "<table border=\"1\" class=\"dataframe\">\n",
       "  <thead>\n",
       "    <tr style=\"text-align: right;\">\n",
       "      <th></th>\n",
       "      <th>code280289</th>\n",
       "      <th>sBP</th>\n",
       "      <th>code240279</th>\n",
       "      <th>weight</th>\n",
       "      <th>code780799</th>\n",
       "      <th>code360389</th>\n",
       "      <th>height</th>\n",
       "      <th>code680709</th>\n",
       "      <th>dBP</th>\n",
       "      <th>code320359</th>\n",
       "      <th>BMI</th>\n",
       "      <th>state</th>\n",
       "      <th>code740759</th>\n",
       "      <th>code001139</th>\n",
       "      <th>code460519</th>\n",
       "      <th>code520579</th>\n",
       "      <th>code710739</th>\n",
       "      <th>code760779</th>\n",
       "      <th>code800999</th>\n",
       "      <th>code390459</th>\n",
       "      <th>diabetes</th>\n",
       "      <th>code290319</th>\n",
       "      <th>gender</th>\n",
       "      <th>age</th>\n",
       "      <th>code630679</th>\n",
       "      <th>code580629</th>\n",
       "      <th>code140239</th>\n",
       "    </tr>\n",
       "  </thead>\n",
       "  <tbody>\n",
       "    <tr>\n",
       "      <th>0</th>\n",
       "      <td>0</td>\n",
       "      <td>120</td>\n",
       "      <td>1</td>\n",
       "      <td>270</td>\n",
       "      <td>0</td>\n",
       "      <td>0</td>\n",
       "      <td>69</td>\n",
       "      <td>0</td>\n",
       "      <td>80</td>\n",
       "      <td>0</td>\n",
       "      <td>41</td>\n",
       "      <td>SD</td>\n",
       "      <td>0</td>\n",
       "      <td>0</td>\n",
       "      <td>0</td>\n",
       "      <td>0</td>\n",
       "      <td>0</td>\n",
       "      <td>0</td>\n",
       "      <td>0</td>\n",
       "      <td>0</td>\n",
       "      <td>0</td>\n",
       "      <td>0</td>\n",
       "      <td>M</td>\n",
       "      <td>60</td>\n",
       "      <td>0</td>\n",
       "      <td>0</td>\n",
       "      <td>1</td>\n",
       "    </tr>\n",
       "    <tr>\n",
       "      <th>1</th>\n",
       "      <td>0</td>\n",
       "      <td>115</td>\n",
       "      <td>1</td>\n",
       "      <td>140</td>\n",
       "      <td>1</td>\n",
       "      <td>0</td>\n",
       "      <td>64</td>\n",
       "      <td>0</td>\n",
       "      <td>60</td>\n",
       "      <td>0</td>\n",
       "      <td>24</td>\n",
       "      <td>VA</td>\n",
       "      <td>0</td>\n",
       "      <td>0</td>\n",
       "      <td>1</td>\n",
       "      <td>0</td>\n",
       "      <td>1</td>\n",
       "      <td>0</td>\n",
       "      <td>0</td>\n",
       "      <td>1</td>\n",
       "      <td>0</td>\n",
       "      <td>0</td>\n",
       "      <td>F</td>\n",
       "      <td>85</td>\n",
       "      <td>0</td>\n",
       "      <td>0</td>\n",
       "      <td>0</td>\n",
       "    </tr>\n",
       "    <tr>\n",
       "      <th>2</th>\n",
       "      <td>0</td>\n",
       "      <td>120</td>\n",
       "      <td>1</td>\n",
       "      <td>220</td>\n",
       "      <td>1</td>\n",
       "      <td>0</td>\n",
       "      <td>68</td>\n",
       "      <td>0</td>\n",
       "      <td>70</td>\n",
       "      <td>0</td>\n",
       "      <td>33</td>\n",
       "      <td>NV</td>\n",
       "      <td>0</td>\n",
       "      <td>0</td>\n",
       "      <td>0</td>\n",
       "      <td>0</td>\n",
       "      <td>1</td>\n",
       "      <td>0</td>\n",
       "      <td>1</td>\n",
       "      <td>0</td>\n",
       "      <td>0</td>\n",
       "      <td>0</td>\n",
       "      <td>M</td>\n",
       "      <td>45</td>\n",
       "      <td>0</td>\n",
       "      <td>0</td>\n",
       "      <td>0</td>\n",
       "    </tr>\n",
       "    <tr>\n",
       "      <th>3</th>\n",
       "      <td>0</td>\n",
       "      <td>135</td>\n",
       "      <td>1</td>\n",
       "      <td>200</td>\n",
       "      <td>0</td>\n",
       "      <td>0</td>\n",
       "      <td>72</td>\n",
       "      <td>0</td>\n",
       "      <td>80</td>\n",
       "      <td>0</td>\n",
       "      <td>27</td>\n",
       "      <td>CA</td>\n",
       "      <td>0</td>\n",
       "      <td>0</td>\n",
       "      <td>1</td>\n",
       "      <td>0</td>\n",
       "      <td>0</td>\n",
       "      <td>0</td>\n",
       "      <td>0</td>\n",
       "      <td>1</td>\n",
       "      <td>0</td>\n",
       "      <td>0</td>\n",
       "      <td>M</td>\n",
       "      <td>60</td>\n",
       "      <td>0</td>\n",
       "      <td>0</td>\n",
       "      <td>0</td>\n",
       "    </tr>\n",
       "    <tr>\n",
       "      <th>4</th>\n",
       "      <td>0</td>\n",
       "      <td>125</td>\n",
       "      <td>1</td>\n",
       "      <td>140</td>\n",
       "      <td>1</td>\n",
       "      <td>1</td>\n",
       "      <td>62</td>\n",
       "      <td>0</td>\n",
       "      <td>80</td>\n",
       "      <td>0</td>\n",
       "      <td>25</td>\n",
       "      <td>CA</td>\n",
       "      <td>0</td>\n",
       "      <td>0</td>\n",
       "      <td>0</td>\n",
       "      <td>0</td>\n",
       "      <td>1</td>\n",
       "      <td>0</td>\n",
       "      <td>1</td>\n",
       "      <td>1</td>\n",
       "      <td>0</td>\n",
       "      <td>0</td>\n",
       "      <td>F</td>\n",
       "      <td>65</td>\n",
       "      <td>0</td>\n",
       "      <td>1</td>\n",
       "      <td>0</td>\n",
       "    </tr>\n",
       "  </tbody>\n",
       "</table>\n",
       "</div>"
      ],
      "text/plain": [
       "   code280289  sBP  code240279  weight  code780799  code360389  height  \\\n",
       "0           0  120           1     270           0           0      69   \n",
       "1           0  115           1     140           1           0      64   \n",
       "2           0  120           1     220           1           0      68   \n",
       "3           0  135           1     200           0           0      72   \n",
       "4           0  125           1     140           1           1      62   \n",
       "\n",
       "   code680709  dBP  code320359  BMI state  code740759  code001139  code460519  \\\n",
       "0           0   80           0   41    SD           0           0           0   \n",
       "1           0   60           0   24    VA           0           0           1   \n",
       "2           0   70           0   33    NV           0           0           0   \n",
       "3           0   80           0   27    CA           0           0           1   \n",
       "4           0   80           0   25    CA           0           0           0   \n",
       "\n",
       "   code520579  code710739  code760779  code800999  code390459  diabetes  \\\n",
       "0           0           0           0           0           0         0   \n",
       "1           0           1           0           0           1         0   \n",
       "2           0           1           0           1           0         0   \n",
       "3           0           0           0           0           1         0   \n",
       "4           0           1           0           1           1         0   \n",
       "\n",
       "   code290319 gender  age  code630679  code580629  code140239  \n",
       "0           0      M   60           0           0           1  \n",
       "1           0      F   85           0           0           0  \n",
       "2           0      M   45           0           0           0  \n",
       "3           0      M   60           0           0           0  \n",
       "4           0      F   65           0           1           0  "
      ]
     },
     "execution_count": 6,
     "metadata": {},
     "output_type": "execute_result"
    }
   ],
   "source": [
    "print('# of rows', len(indata))\n",
    "print('# of columns', len(indata.columns))\n",
    "pd.set_option('display.max_columns', 27)\n",
    "indata.head()\n",
    "# pd.set_option('display.max_rows', 9948)\n",
    "# pd.reset_option('display.max_columns')\n",
    "# pd.reset_option('display.max_rows')"
   ]
  },
  {
   "cell_type": "code",
   "execution_count": 7,
   "metadata": {
    "collapsed": false,
    "scrolled": true
   },
   "outputs": [
    {
     "data": {
      "text/html": [
       "<div>\n",
       "<table border=\"1\" class=\"dataframe\">\n",
       "  <thead>\n",
       "    <tr style=\"text-align: right;\">\n",
       "      <th></th>\n",
       "      <th>code280289</th>\n",
       "      <th>sBP</th>\n",
       "      <th>code240279</th>\n",
       "      <th>weight</th>\n",
       "      <th>code780799</th>\n",
       "      <th>code360389</th>\n",
       "      <th>height</th>\n",
       "      <th>code680709</th>\n",
       "      <th>dBP</th>\n",
       "      <th>code320359</th>\n",
       "      <th>BMI</th>\n",
       "      <th>code740759</th>\n",
       "      <th>code001139</th>\n",
       "      <th>code460519</th>\n",
       "      <th>code520579</th>\n",
       "      <th>code710739</th>\n",
       "      <th>code760779</th>\n",
       "      <th>code800999</th>\n",
       "      <th>code390459</th>\n",
       "      <th>diabetes</th>\n",
       "      <th>code290319</th>\n",
       "      <th>age</th>\n",
       "      <th>code630679</th>\n",
       "      <th>code580629</th>\n",
       "      <th>code140239</th>\n",
       "    </tr>\n",
       "  </thead>\n",
       "  <tbody>\n",
       "    <tr>\n",
       "      <th>count</th>\n",
       "      <td>9947.000000</td>\n",
       "      <td>9947.000000</td>\n",
       "      <td>9947.000000</td>\n",
       "      <td>9947.000000</td>\n",
       "      <td>9947.000000</td>\n",
       "      <td>9947.000000</td>\n",
       "      <td>9947.00000</td>\n",
       "      <td>9947.000000</td>\n",
       "      <td>9947.000000</td>\n",
       "      <td>9947.000000</td>\n",
       "      <td>9947.000000</td>\n",
       "      <td>9947.000000</td>\n",
       "      <td>9947.000000</td>\n",
       "      <td>9947.000000</td>\n",
       "      <td>9947.000000</td>\n",
       "      <td>9947.000000</td>\n",
       "      <td>9947.000000</td>\n",
       "      <td>9947.000000</td>\n",
       "      <td>9947.000000</td>\n",
       "      <td>9947.000000</td>\n",
       "      <td>9947.000000</td>\n",
       "      <td>9947.000000</td>\n",
       "      <td>9947.000000</td>\n",
       "      <td>9947.000000</td>\n",
       "      <td>9947.000000</td>\n",
       "    </tr>\n",
       "    <tr>\n",
       "      <th>mean</th>\n",
       "      <td>0.095205</td>\n",
       "      <td>124.938675</td>\n",
       "      <td>0.606012</td>\n",
       "      <td>175.304112</td>\n",
       "      <td>0.568915</td>\n",
       "      <td>0.210616</td>\n",
       "      <td>65.76988</td>\n",
       "      <td>0.238162</td>\n",
       "      <td>75.311149</td>\n",
       "      <td>0.205791</td>\n",
       "      <td>32.225797</td>\n",
       "      <td>0.017895</td>\n",
       "      <td>0.206494</td>\n",
       "      <td>0.522972</td>\n",
       "      <td>0.326933</td>\n",
       "      <td>0.506082</td>\n",
       "      <td>0.001005</td>\n",
       "      <td>0.154318</td>\n",
       "      <td>0.532924</td>\n",
       "      <td>0.191414</td>\n",
       "      <td>0.382829</td>\n",
       "      <td>52.585202</td>\n",
       "      <td>0.010656</td>\n",
       "      <td>0.319192</td>\n",
       "      <td>0.079521</td>\n",
       "    </tr>\n",
       "    <tr>\n",
       "      <th>std</th>\n",
       "      <td>0.293512</td>\n",
       "      <td>17.259632</td>\n",
       "      <td>0.488657</td>\n",
       "      <td>44.214842</td>\n",
       "      <td>0.495253</td>\n",
       "      <td>0.407767</td>\n",
       "      <td>4.72825</td>\n",
       "      <td>0.425980</td>\n",
       "      <td>11.055824</td>\n",
       "      <td>0.404299</td>\n",
       "      <td>115.348996</td>\n",
       "      <td>0.132576</td>\n",
       "      <td>0.404810</td>\n",
       "      <td>0.499497</td>\n",
       "      <td>0.469116</td>\n",
       "      <td>0.499988</td>\n",
       "      <td>0.031693</td>\n",
       "      <td>0.361271</td>\n",
       "      <td>0.498940</td>\n",
       "      <td>0.393434</td>\n",
       "      <td>0.486102</td>\n",
       "      <td>17.535396</td>\n",
       "      <td>0.102684</td>\n",
       "      <td>0.466187</td>\n",
       "      <td>0.270565</td>\n",
       "    </tr>\n",
       "    <tr>\n",
       "      <th>min</th>\n",
       "      <td>0.000000</td>\n",
       "      <td>10.000000</td>\n",
       "      <td>0.000000</td>\n",
       "      <td>0.000000</td>\n",
       "      <td>0.000000</td>\n",
       "      <td>0.000000</td>\n",
       "      <td>5.00000</td>\n",
       "      <td>0.000000</td>\n",
       "      <td>0.000000</td>\n",
       "      <td>0.000000</td>\n",
       "      <td>0.000000</td>\n",
       "      <td>0.000000</td>\n",
       "      <td>0.000000</td>\n",
       "      <td>0.000000</td>\n",
       "      <td>0.000000</td>\n",
       "      <td>0.000000</td>\n",
       "      <td>0.000000</td>\n",
       "      <td>0.000000</td>\n",
       "      <td>0.000000</td>\n",
       "      <td>0.000000</td>\n",
       "      <td>0.000000</td>\n",
       "      <td>15.000000</td>\n",
       "      <td>0.000000</td>\n",
       "      <td>0.000000</td>\n",
       "      <td>0.000000</td>\n",
       "    </tr>\n",
       "    <tr>\n",
       "      <th>25%</th>\n",
       "      <td>0.000000</td>\n",
       "      <td>115.000000</td>\n",
       "      <td>0.000000</td>\n",
       "      <td>140.000000</td>\n",
       "      <td>0.000000</td>\n",
       "      <td>0.000000</td>\n",
       "      <td>63.00000</td>\n",
       "      <td>0.000000</td>\n",
       "      <td>70.000000</td>\n",
       "      <td>0.000000</td>\n",
       "      <td>24.000000</td>\n",
       "      <td>0.000000</td>\n",
       "      <td>0.000000</td>\n",
       "      <td>0.000000</td>\n",
       "      <td>0.000000</td>\n",
       "      <td>0.000000</td>\n",
       "      <td>0.000000</td>\n",
       "      <td>0.000000</td>\n",
       "      <td>0.000000</td>\n",
       "      <td>0.000000</td>\n",
       "      <td>0.000000</td>\n",
       "      <td>40.000000</td>\n",
       "      <td>0.000000</td>\n",
       "      <td>0.000000</td>\n",
       "      <td>0.000000</td>\n",
       "    </tr>\n",
       "    <tr>\n",
       "      <th>50%</th>\n",
       "      <td>0.000000</td>\n",
       "      <td>125.000000</td>\n",
       "      <td>1.000000</td>\n",
       "      <td>170.000000</td>\n",
       "      <td>1.000000</td>\n",
       "      <td>0.000000</td>\n",
       "      <td>66.00000</td>\n",
       "      <td>0.000000</td>\n",
       "      <td>75.000000</td>\n",
       "      <td>0.000000</td>\n",
       "      <td>28.000000</td>\n",
       "      <td>0.000000</td>\n",
       "      <td>0.000000</td>\n",
       "      <td>1.000000</td>\n",
       "      <td>0.000000</td>\n",
       "      <td>1.000000</td>\n",
       "      <td>0.000000</td>\n",
       "      <td>0.000000</td>\n",
       "      <td>1.000000</td>\n",
       "      <td>0.000000</td>\n",
       "      <td>0.000000</td>\n",
       "      <td>55.000000</td>\n",
       "      <td>0.000000</td>\n",
       "      <td>0.000000</td>\n",
       "      <td>0.000000</td>\n",
       "    </tr>\n",
       "    <tr>\n",
       "      <th>75%</th>\n",
       "      <td>0.000000</td>\n",
       "      <td>135.000000</td>\n",
       "      <td>1.000000</td>\n",
       "      <td>200.000000</td>\n",
       "      <td>1.000000</td>\n",
       "      <td>0.000000</td>\n",
       "      <td>69.00000</td>\n",
       "      <td>0.000000</td>\n",
       "      <td>80.000000</td>\n",
       "      <td>0.000000</td>\n",
       "      <td>32.000000</td>\n",
       "      <td>0.000000</td>\n",
       "      <td>0.000000</td>\n",
       "      <td>1.000000</td>\n",
       "      <td>1.000000</td>\n",
       "      <td>1.000000</td>\n",
       "      <td>0.000000</td>\n",
       "      <td>0.000000</td>\n",
       "      <td>1.000000</td>\n",
       "      <td>0.000000</td>\n",
       "      <td>1.000000</td>\n",
       "      <td>65.000000</td>\n",
       "      <td>0.000000</td>\n",
       "      <td>1.000000</td>\n",
       "      <td>0.000000</td>\n",
       "    </tr>\n",
       "    <tr>\n",
       "      <th>max</th>\n",
       "      <td>1.000000</td>\n",
       "      <td>220.000000</td>\n",
       "      <td>1.000000</td>\n",
       "      <td>590.000000</td>\n",
       "      <td>1.000000</td>\n",
       "      <td>1.000000</td>\n",
       "      <td>112.00000</td>\n",
       "      <td>1.000000</td>\n",
       "      <td>145.000000</td>\n",
       "      <td>1.000000</td>\n",
       "      <td>4629.000000</td>\n",
       "      <td>1.000000</td>\n",
       "      <td>1.000000</td>\n",
       "      <td>1.000000</td>\n",
       "      <td>1.000000</td>\n",
       "      <td>1.000000</td>\n",
       "      <td>1.000000</td>\n",
       "      <td>1.000000</td>\n",
       "      <td>1.000000</td>\n",
       "      <td>1.000000</td>\n",
       "      <td>1.000000</td>\n",
       "      <td>90.000000</td>\n",
       "      <td>1.000000</td>\n",
       "      <td>1.000000</td>\n",
       "      <td>1.000000</td>\n",
       "    </tr>\n",
       "  </tbody>\n",
       "</table>\n",
       "</div>"
      ],
      "text/plain": [
       "        code280289          sBP   code240279       weight   code780799  \\\n",
       "count  9947.000000  9947.000000  9947.000000  9947.000000  9947.000000   \n",
       "mean      0.095205   124.938675     0.606012   175.304112     0.568915   \n",
       "std       0.293512    17.259632     0.488657    44.214842     0.495253   \n",
       "min       0.000000    10.000000     0.000000     0.000000     0.000000   \n",
       "25%       0.000000   115.000000     0.000000   140.000000     0.000000   \n",
       "50%       0.000000   125.000000     1.000000   170.000000     1.000000   \n",
       "75%       0.000000   135.000000     1.000000   200.000000     1.000000   \n",
       "max       1.000000   220.000000     1.000000   590.000000     1.000000   \n",
       "\n",
       "        code360389      height   code680709          dBP   code320359  \\\n",
       "count  9947.000000  9947.00000  9947.000000  9947.000000  9947.000000   \n",
       "mean      0.210616    65.76988     0.238162    75.311149     0.205791   \n",
       "std       0.407767     4.72825     0.425980    11.055824     0.404299   \n",
       "min       0.000000     5.00000     0.000000     0.000000     0.000000   \n",
       "25%       0.000000    63.00000     0.000000    70.000000     0.000000   \n",
       "50%       0.000000    66.00000     0.000000    75.000000     0.000000   \n",
       "75%       0.000000    69.00000     0.000000    80.000000     0.000000   \n",
       "max       1.000000   112.00000     1.000000   145.000000     1.000000   \n",
       "\n",
       "               BMI   code740759   code001139   code460519   code520579  \\\n",
       "count  9947.000000  9947.000000  9947.000000  9947.000000  9947.000000   \n",
       "mean     32.225797     0.017895     0.206494     0.522972     0.326933   \n",
       "std     115.348996     0.132576     0.404810     0.499497     0.469116   \n",
       "min       0.000000     0.000000     0.000000     0.000000     0.000000   \n",
       "25%      24.000000     0.000000     0.000000     0.000000     0.000000   \n",
       "50%      28.000000     0.000000     0.000000     1.000000     0.000000   \n",
       "75%      32.000000     0.000000     0.000000     1.000000     1.000000   \n",
       "max    4629.000000     1.000000     1.000000     1.000000     1.000000   \n",
       "\n",
       "        code710739   code760779   code800999   code390459     diabetes  \\\n",
       "count  9947.000000  9947.000000  9947.000000  9947.000000  9947.000000   \n",
       "mean      0.506082     0.001005     0.154318     0.532924     0.191414   \n",
       "std       0.499988     0.031693     0.361271     0.498940     0.393434   \n",
       "min       0.000000     0.000000     0.000000     0.000000     0.000000   \n",
       "25%       0.000000     0.000000     0.000000     0.000000     0.000000   \n",
       "50%       1.000000     0.000000     0.000000     1.000000     0.000000   \n",
       "75%       1.000000     0.000000     0.000000     1.000000     0.000000   \n",
       "max       1.000000     1.000000     1.000000     1.000000     1.000000   \n",
       "\n",
       "        code290319          age   code630679   code580629   code140239  \n",
       "count  9947.000000  9947.000000  9947.000000  9947.000000  9947.000000  \n",
       "mean      0.382829    52.585202     0.010656     0.319192     0.079521  \n",
       "std       0.486102    17.535396     0.102684     0.466187     0.270565  \n",
       "min       0.000000    15.000000     0.000000     0.000000     0.000000  \n",
       "25%       0.000000    40.000000     0.000000     0.000000     0.000000  \n",
       "50%       0.000000    55.000000     0.000000     0.000000     0.000000  \n",
       "75%       1.000000    65.000000     0.000000     1.000000     0.000000  \n",
       "max       1.000000    90.000000     1.000000     1.000000     1.000000  "
      ]
     },
     "execution_count": 7,
     "metadata": {},
     "output_type": "execute_result"
    }
   ],
   "source": [
    "indata.describe()"
   ]
  },
  {
   "cell_type": "code",
   "execution_count": 8,
   "metadata": {
    "collapsed": false
   },
   "outputs": [
    {
     "name": "stdout",
     "output_type": "stream",
     "text": [
      "# of missing data 0\n"
     ]
    }
   ],
   "source": [
    "#Checking for missing data\n",
    "print('# of missing data', indata.isnull().any().sum())"
   ]
  },
  {
   "cell_type": "code",
   "execution_count": 12,
   "metadata": {
    "collapsed": false,
    "scrolled": false
   },
   "outputs": [
    {
     "data": {
      "text/html": [
       "<div>\n",
       "<table border=\"1\" class=\"dataframe\">\n",
       "  <thead>\n",
       "    <tr style=\"text-align: right;\">\n",
       "      <th></th>\n",
       "      <th>Datatype</th>\n",
       "      <th>Levels</th>\n",
       "      <th>Variable</th>\n",
       "    </tr>\n",
       "  </thead>\n",
       "  <tbody>\n",
       "    <tr>\n",
       "      <th>0</th>\n",
       "      <td>int64</td>\n",
       "      <td>2</td>\n",
       "      <td>code280289</td>\n",
       "    </tr>\n",
       "    <tr>\n",
       "      <th>24</th>\n",
       "      <td>int64</td>\n",
       "      <td>2</td>\n",
       "      <td>code630679</td>\n",
       "    </tr>\n",
       "    <tr>\n",
       "      <th>22</th>\n",
       "      <td>object</td>\n",
       "      <td>2</td>\n",
       "      <td>gender</td>\n",
       "    </tr>\n",
       "    <tr>\n",
       "      <th>21</th>\n",
       "      <td>int64</td>\n",
       "      <td>2</td>\n",
       "      <td>code290319</td>\n",
       "    </tr>\n",
       "    <tr>\n",
       "      <th>20</th>\n",
       "      <td>int64</td>\n",
       "      <td>2</td>\n",
       "      <td>diabetes</td>\n",
       "    </tr>\n",
       "    <tr>\n",
       "      <th>19</th>\n",
       "      <td>int64</td>\n",
       "      <td>2</td>\n",
       "      <td>code390459</td>\n",
       "    </tr>\n",
       "    <tr>\n",
       "      <th>18</th>\n",
       "      <td>int64</td>\n",
       "      <td>2</td>\n",
       "      <td>code800999</td>\n",
       "    </tr>\n",
       "    <tr>\n",
       "      <th>17</th>\n",
       "      <td>int64</td>\n",
       "      <td>2</td>\n",
       "      <td>code760779</td>\n",
       "    </tr>\n",
       "    <tr>\n",
       "      <th>16</th>\n",
       "      <td>int64</td>\n",
       "      <td>2</td>\n",
       "      <td>code710739</td>\n",
       "    </tr>\n",
       "    <tr>\n",
       "      <th>15</th>\n",
       "      <td>int64</td>\n",
       "      <td>2</td>\n",
       "      <td>code520579</td>\n",
       "    </tr>\n",
       "    <tr>\n",
       "      <th>14</th>\n",
       "      <td>int64</td>\n",
       "      <td>2</td>\n",
       "      <td>code460519</td>\n",
       "    </tr>\n",
       "    <tr>\n",
       "      <th>25</th>\n",
       "      <td>int64</td>\n",
       "      <td>2</td>\n",
       "      <td>code580629</td>\n",
       "    </tr>\n",
       "    <tr>\n",
       "      <th>13</th>\n",
       "      <td>int64</td>\n",
       "      <td>2</td>\n",
       "      <td>code001139</td>\n",
       "    </tr>\n",
       "    <tr>\n",
       "      <th>9</th>\n",
       "      <td>int64</td>\n",
       "      <td>2</td>\n",
       "      <td>code320359</td>\n",
       "    </tr>\n",
       "    <tr>\n",
       "      <th>7</th>\n",
       "      <td>int64</td>\n",
       "      <td>2</td>\n",
       "      <td>code680709</td>\n",
       "    </tr>\n",
       "    <tr>\n",
       "      <th>5</th>\n",
       "      <td>int64</td>\n",
       "      <td>2</td>\n",
       "      <td>code360389</td>\n",
       "    </tr>\n",
       "    <tr>\n",
       "      <th>4</th>\n",
       "      <td>int64</td>\n",
       "      <td>2</td>\n",
       "      <td>code780799</td>\n",
       "    </tr>\n",
       "    <tr>\n",
       "      <th>2</th>\n",
       "      <td>int64</td>\n",
       "      <td>2</td>\n",
       "      <td>code240279</td>\n",
       "    </tr>\n",
       "    <tr>\n",
       "      <th>12</th>\n",
       "      <td>int64</td>\n",
       "      <td>2</td>\n",
       "      <td>code740759</td>\n",
       "    </tr>\n",
       "    <tr>\n",
       "      <th>26</th>\n",
       "      <td>int64</td>\n",
       "      <td>2</td>\n",
       "      <td>code140239</td>\n",
       "    </tr>\n",
       "    <tr>\n",
       "      <th>23</th>\n",
       "      <td>int64</td>\n",
       "      <td>16</td>\n",
       "      <td>age</td>\n",
       "    </tr>\n",
       "    <tr>\n",
       "      <th>8</th>\n",
       "      <td>int64</td>\n",
       "      <td>26</td>\n",
       "      <td>dBP</td>\n",
       "    </tr>\n",
       "    <tr>\n",
       "      <th>1</th>\n",
       "      <td>int64</td>\n",
       "      <td>34</td>\n",
       "      <td>sBP</td>\n",
       "    </tr>\n",
       "    <tr>\n",
       "      <th>3</th>\n",
       "      <td>int64</td>\n",
       "      <td>40</td>\n",
       "      <td>weight</td>\n",
       "    </tr>\n",
       "    <tr>\n",
       "      <th>6</th>\n",
       "      <td>int64</td>\n",
       "      <td>44</td>\n",
       "      <td>height</td>\n",
       "    </tr>\n",
       "    <tr>\n",
       "      <th>11</th>\n",
       "      <td>object</td>\n",
       "      <td>51</td>\n",
       "      <td>state</td>\n",
       "    </tr>\n",
       "    <tr>\n",
       "      <th>10</th>\n",
       "      <td>int64</td>\n",
       "      <td>76</td>\n",
       "      <td>BMI</td>\n",
       "    </tr>\n",
       "  </tbody>\n",
       "</table>\n",
       "</div>"
      ],
      "text/plain": [
       "   Datatype  Levels    Variable\n",
       "0     int64       2  code280289\n",
       "24    int64       2  code630679\n",
       "22   object       2      gender\n",
       "21    int64       2  code290319\n",
       "20    int64       2    diabetes\n",
       "19    int64       2  code390459\n",
       "18    int64       2  code800999\n",
       "17    int64       2  code760779\n",
       "16    int64       2  code710739\n",
       "15    int64       2  code520579\n",
       "14    int64       2  code460519\n",
       "25    int64       2  code580629\n",
       "13    int64       2  code001139\n",
       "9     int64       2  code320359\n",
       "7     int64       2  code680709\n",
       "5     int64       2  code360389\n",
       "4     int64       2  code780799\n",
       "2     int64       2  code240279\n",
       "12    int64       2  code740759\n",
       "26    int64       2  code140239\n",
       "23    int64      16         age\n",
       "8     int64      26         dBP\n",
       "1     int64      34         sBP\n",
       "3     int64      40      weight\n",
       "6     int64      44      height\n",
       "11   object      51       state\n",
       "10    int64      76         BMI"
      ]
     },
     "execution_count": 12,
     "metadata": {},
     "output_type": "execute_result"
    }
   ],
   "source": [
    "describe_more(indata)"
   ]
  },
  {
   "cell_type": "code",
   "execution_count": 13,
   "metadata": {
    "collapsed": true
   },
   "outputs": [],
   "source": [
    "#change objects to numeric values\n",
    "from sklearn import preprocessing\n",
    "\n",
    "for f in indata.columns:\n",
    "    if indata[f].dtype == 'object':\n",
    "        lbl = preprocessing.LabelEncoder()\n",
    "        lbl.fit(np.unique(list(indata[f].values)))\n",
    "        indata[f] = lbl.transform(list(indata[f].values))"
   ]
  },
  {
   "cell_type": "code",
   "execution_count": 14,
   "metadata": {
    "collapsed": false,
    "scrolled": false
   },
   "outputs": [
    {
     "data": {
      "text/plain": [
       "<matplotlib.axes._subplots.AxesSubplot at 0x7fb2f5ffa0f0>"
      ]
     },
     "execution_count": 14,
     "metadata": {},
     "output_type": "execute_result"
    },
    {
     "data": {
      "image/png": "[encoded data removed]",
      "text/plain": [
       "<matplotlib.figure.Figure at 0x7fb2f5df1860>"
      ]
     },
     "metadata": {},
     "output_type": "display_data"
    }
   ],
   "source": [
    "sns.heatmap(indata.corr())"
   ]
  },
  {
   "cell_type": "code",
   "execution_count": 15,
   "metadata": {
    "collapsed": false
   },
   "outputs": [
    {
     "data": {
      "image/png": "[encoded data removed]",
      "text/plain": [
       "<matplotlib.figure.Figure at 0x7fb2f1c83978>"
      ]
     },
     "metadata": {},
     "output_type": "display_data"
    }
   ],
   "source": [
    "count = indata.groupby('height').height.count()\n",
    "\n",
    "values = count.values\n",
    "indx   = count.index\n",
    "# print(indx)\n",
    "# print(values)\n",
    "# print(sum(values))\n",
    "\n",
    "mean = sum(values)/len(indx)\n",
    "variance = np.sqrt(sum((values-mean)**2)/len(indx))\n",
    "\n",
    "plt.bar(indx, values)\n",
    "plt.title('Heights per individual')\n",
    "plt.xticks(rotation='horizontal')\n",
    "plt.show()"
   ]
  },
  {
   "cell_type": "code",
   "execution_count": 16,
   "metadata": {
    "collapsed": false
   },
   "outputs": [
    {
     "data": {
      "image/png": "[encoded data removed]",
      "text/plain": [
       "<matplotlib.figure.Figure at 0x7fb2f03e8eb8>"
      ]
     },
     "metadata": {},
     "output_type": "display_data"
    }
   ],
   "source": [
    "count = indata.groupby('weight').weight.count()\n",
    "\n",
    "values = count.values\n",
    "indx   = count.index\n",
    "\n",
    "mean = sum(values)/len(indx)\n",
    "variance = np.sqrt(sum((values-mean)**2)/len(indx))\n",
    "\n",
    "plt.bar(indx, values)\n",
    "plt.title('Weight per individual')\n",
    "plt.xticks(rotation='horizontal')\n",
    "plt.show()"
   ]
  },
  {
   "cell_type": "code",
   "execution_count": 17,
   "metadata": {
    "collapsed": false
   },
   "outputs": [
    {
     "data": {
      "image/png": "[encoded data removed]",
      "text/plain": [
       "<matplotlib.figure.Figure at 0x7fb2f0266fd0>"
      ]
     },
     "metadata": {},
     "output_type": "display_data"
    }
   ],
   "source": [
    "count = indata.groupby('age').age.count()\n",
    "\n",
    "values = count.values\n",
    "indx   = count.index\n",
    "# print(indx)\n",
    "# print(values)\n",
    "# print(sum(values))\n",
    "\n",
    "mean = sum(values)/len(indx)\n",
    "variance = np.sqrt(sum((values-mean)**2)/len(indx))\n",
    "\n",
    "plt.bar(indx, values)\n",
    "plt.title('Age per individual')\n",
    "plt.xticks(rotation='horizontal')\n",
    "plt.show()"
   ]
  },
  {
   "cell_type": "code",
   "execution_count": 18,
   "metadata": {
    "collapsed": false
   },
   "outputs": [
    {
     "data": {
      "image/png": "[encoded data removed]",
      "text/plain": [
       "<matplotlib.figure.Figure at 0x7fb2f0172898>"
      ]
     },
     "metadata": {},
     "output_type": "display_data"
    }
   ],
   "source": [
    "count = indata.groupby('BMI').BMI.count()\n",
    "\n",
    "values = count.values\n",
    "indx   = count.index\n",
    "\n",
    "mean = sum(values)/len(indx)\n",
    "variance = np.sqrt(sum((values-mean)**2)/len(indx))\n",
    "\n",
    "plt.bar(indx, values)\n",
    "plt.title('BMI per individual')\n",
    "plt.xticks(rotation='horizontal')\n",
    "plt.show()"
   ]
  },
  {
   "cell_type": "code",
   "execution_count": 19,
   "metadata": {
    "collapsed": false,
    "scrolled": false
   },
   "outputs": [
    {
     "data": {
      "image/png": "[encoded data removed]",
      "text/plain": [
       "<matplotlib.figure.Figure at 0x7fb2f1c70630>"
      ]
     },
     "metadata": {},
     "output_type": "display_data"
    }
   ],
   "source": [
    "count = indata.groupby('state').state.count()\n",
    "\n",
    "values = count.values\n",
    "indx   = count.index\n",
    "\n",
    "mean = sum(values)/len(indx)\n",
    "variance = np.sqrt(sum((values-mean)**2)/len(indx))\n",
    "\n",
    "plt.bar(indx, values)\n",
    "plt.title('States')\n",
    "plt.xticks(rotation='horizontal')\n",
    "plt.show()"
   ]
  },
  {
   "cell_type": "code",
   "execution_count": 9,
   "metadata": {
    "collapsed": false
   },
   "outputs": [
    {
     "name": "stdout",
     "output_type": "stream",
     "text": [
      "code280289     0\n",
      "sBP           10\n",
      "code240279     0\n",
      "weight         0\n",
      "code780799     0\n",
      "code360389     0\n",
      "height         5\n",
      "code680709     0\n",
      "dBP            0\n",
      "code320359     0\n",
      "BMI            0\n",
      "state         AK\n",
      "code740759     0\n",
      "code001139     0\n",
      "code460519     0\n",
      "code520579     0\n",
      "code710739     0\n",
      "code760779     0\n",
      "code800999     0\n",
      "code390459     0\n",
      "diabetes       0\n",
      "code290319     0\n",
      "gender         F\n",
      "age           15\n",
      "code630679     0\n",
      "code580629     0\n",
      "code140239     0\n",
      "dtype: object\n"
     ]
    }
   ],
   "source": [
    "#filter bad values\n",
    "print(indata.min())\n",
    "# print(indata.max())\n",
    "# print(indata.idxmin())\n",
    "# print(indata.idxmax())"
   ]
  },
  {
   "cell_type": "code",
   "execution_count": 20,
   "metadata": {
    "collapsed": false
   },
   "outputs": [
    {
     "name": "stdout",
     "output_type": "stream",
     "text": [
      "height 5\n",
      "weight 110\n",
      "BMI 3166\n",
      "age 55\n"
     ]
    }
   ],
   "source": [
    "r_indx = 14\n",
    "print(\"height\", indata.iloc[r_indx,6])\n",
    "print(\"weight\", indata.iloc[r_indx,3])\n",
    "print(\"BMI\", indata.iloc[r_indx,10])\n",
    "print(\"age\", indata.iloc[r_indx,23])"
   ]
  },
  {
   "cell_type": "code",
   "execution_count": 21,
   "metadata": {
    "collapsed": false
   },
   "outputs": [
    {
     "name": "stdout",
     "output_type": "stream",
     "text": [
      "height 67\n",
      "weight 0\n",
      "BMI 1\n",
      "age 55\n"
     ]
    }
   ],
   "source": [
    "r_indx = 3502\n",
    "print(\"height\", indata.iloc[r_indx,6])\n",
    "print(\"weight\", indata.iloc[r_indx,3])\n",
    "print(\"BMI\", indata.iloc[r_indx,10])\n",
    "print(\"age\", indata.iloc[r_indx,23])"
   ]
  },
  {
   "cell_type": "markdown",
   "metadata": {},
   "source": [
    "Having determined that their are outliers in data, going to do data trimming - based on age, weight and height columns --- as such analysis should only be valid for individuals whose stats lie in this range"
   ]
  },
  {
   "cell_type": "code",
   "execution_count": 14,
   "metadata": {
    "collapsed": false
   },
   "outputs": [
    {
     "name": "stdout",
     "output_type": "stream",
     "text": [
      "15.0\n"
     ]
    },
    {
     "data": {
      "text/html": [
       "<div>\n",
       "<table border=\"1\" class=\"dataframe\">\n",
       "  <thead>\n",
       "    <tr style=\"text-align: right;\">\n",
       "      <th></th>\n",
       "      <th>code280289</th>\n",
       "      <th>sBP</th>\n",
       "      <th>code240279</th>\n",
       "      <th>weight</th>\n",
       "      <th>code780799</th>\n",
       "      <th>code360389</th>\n",
       "      <th>height</th>\n",
       "      <th>code680709</th>\n",
       "      <th>dBP</th>\n",
       "      <th>code320359</th>\n",
       "      <th>BMI</th>\n",
       "      <th>state</th>\n",
       "      <th>code740759</th>\n",
       "      <th>code001139</th>\n",
       "      <th>code460519</th>\n",
       "      <th>code520579</th>\n",
       "      <th>code710739</th>\n",
       "      <th>code760779</th>\n",
       "      <th>code800999</th>\n",
       "      <th>code390459</th>\n",
       "      <th>diabetes</th>\n",
       "      <th>code290319</th>\n",
       "      <th>gender</th>\n",
       "      <th>age</th>\n",
       "      <th>code630679</th>\n",
       "      <th>code580629</th>\n",
       "      <th>code140239</th>\n",
       "    </tr>\n",
       "  </thead>\n",
       "  <tbody>\n",
       "    <tr>\n",
       "      <th>0.002</th>\n",
       "      <td>0.0</td>\n",
       "      <td>80.0</td>\n",
       "      <td>0.0</td>\n",
       "      <td>80.0</td>\n",
       "      <td>0.0</td>\n",
       "      <td>0.0</td>\n",
       "      <td>50.0</td>\n",
       "      <td>0.0</td>\n",
       "      <td>40.00</td>\n",
       "      <td>0.0</td>\n",
       "      <td>14.892</td>\n",
       "      <td>1.0</td>\n",
       "      <td>0.0</td>\n",
       "      <td>0.0</td>\n",
       "      <td>0.0</td>\n",
       "      <td>0.0</td>\n",
       "      <td>0.0</td>\n",
       "      <td>0.0</td>\n",
       "      <td>0.0</td>\n",
       "      <td>0.0</td>\n",
       "      <td>0.0</td>\n",
       "      <td>0.0</td>\n",
       "      <td>0.0</td>\n",
       "      <td>15.0</td>\n",
       "      <td>0.0</td>\n",
       "      <td>0.0</td>\n",
       "      <td>0.0</td>\n",
       "    </tr>\n",
       "    <tr>\n",
       "      <th>0.998</th>\n",
       "      <td>1.0</td>\n",
       "      <td>195.0</td>\n",
       "      <td>1.0</td>\n",
       "      <td>320.0</td>\n",
       "      <td>1.0</td>\n",
       "      <td>1.0</td>\n",
       "      <td>77.0</td>\n",
       "      <td>1.0</td>\n",
       "      <td>115.54</td>\n",
       "      <td>1.0</td>\n",
       "      <td>58.216</td>\n",
       "      <td>49.0</td>\n",
       "      <td>1.0</td>\n",
       "      <td>1.0</td>\n",
       "      <td>1.0</td>\n",
       "      <td>1.0</td>\n",
       "      <td>1.0</td>\n",
       "      <td>0.0</td>\n",
       "      <td>1.0</td>\n",
       "      <td>1.0</td>\n",
       "      <td>1.0</td>\n",
       "      <td>1.0</td>\n",
       "      <td>1.0</td>\n",
       "      <td>90.0</td>\n",
       "      <td>1.0</td>\n",
       "      <td>1.0</td>\n",
       "      <td>1.0</td>\n",
       "    </tr>\n",
       "  </tbody>\n",
       "</table>\n",
       "</div>"
      ],
      "text/plain": [
       "       code280289    sBP  code240279  weight  code780799  code360389  height  \\\n",
       "0.002         0.0   80.0         0.0    80.0         0.0         0.0    50.0   \n",
       "0.998         1.0  195.0         1.0   320.0         1.0         1.0    77.0   \n",
       "\n",
       "       code680709     dBP  code320359     BMI  state  code740759  code001139  \\\n",
       "0.002         0.0   40.00         0.0  14.892    1.0         0.0         0.0   \n",
       "0.998         1.0  115.54         1.0  58.216   49.0         1.0         1.0   \n",
       "\n",
       "       code460519  code520579  code710739  code760779  code800999  code390459  \\\n",
       "0.002         0.0         0.0         0.0         0.0         0.0         0.0   \n",
       "0.998         1.0         1.0         1.0         0.0         1.0         1.0   \n",
       "\n",
       "       diabetes  code290319  gender   age  code630679  code580629  code140239  \n",
       "0.002       0.0         0.0     0.0  15.0         0.0         0.0         0.0  \n",
       "0.998       1.0         1.0     1.0  90.0         1.0         1.0         1.0  "
      ]
     },
     "execution_count": 14,
     "metadata": {},
     "output_type": "execute_result"
    }
   ],
   "source": [
    "#To check for outlier points\n",
    "\n",
    "low = .002\n",
    "high = .998\n",
    "qdf = indata.quantile([low, high])\n",
    "\n",
    "print(qdf.loc[low,'age'])\n",
    "qdf"
   ]
  },
  {
   "cell_type": "code",
   "execution_count": 15,
   "metadata": {
    "collapsed": false
   },
   "outputs": [],
   "source": [
    "from scipy import stats\n",
    "df = indata.copy()\n",
    "df = df[(np.abs(stats.zscore(df)) < 3.5).all(axis=1)].copy()"
   ]
  },
  {
   "cell_type": "code",
   "execution_count": 16,
   "metadata": {
    "collapsed": false
   },
   "outputs": [
    {
     "name": "stdout",
     "output_type": "stream",
     "text": [
      "15.0\n"
     ]
    },
    {
     "data": {
      "text/html": [
       "<div>\n",
       "<table border=\"1\" class=\"dataframe\">\n",
       "  <thead>\n",
       "    <tr style=\"text-align: right;\">\n",
       "      <th></th>\n",
       "      <th>code280289</th>\n",
       "      <th>sBP</th>\n",
       "      <th>code240279</th>\n",
       "      <th>weight</th>\n",
       "      <th>code780799</th>\n",
       "      <th>code360389</th>\n",
       "      <th>height</th>\n",
       "      <th>code680709</th>\n",
       "      <th>dBP</th>\n",
       "      <th>code320359</th>\n",
       "      <th>BMI</th>\n",
       "      <th>state</th>\n",
       "      <th>code740759</th>\n",
       "      <th>code001139</th>\n",
       "      <th>code460519</th>\n",
       "      <th>code520579</th>\n",
       "      <th>code710739</th>\n",
       "      <th>code760779</th>\n",
       "      <th>code800999</th>\n",
       "      <th>code390459</th>\n",
       "      <th>diabetes</th>\n",
       "      <th>code290319</th>\n",
       "      <th>gender</th>\n",
       "      <th>age</th>\n",
       "      <th>code630679</th>\n",
       "      <th>code580629</th>\n",
       "      <th>code140239</th>\n",
       "    </tr>\n",
       "  </thead>\n",
       "  <tbody>\n",
       "    <tr>\n",
       "      <th>0.002</th>\n",
       "      <td>0.0</td>\n",
       "      <td>85.0</td>\n",
       "      <td>0.0</td>\n",
       "      <td>80.0</td>\n",
       "      <td>0.0</td>\n",
       "      <td>0.0</td>\n",
       "      <td>55.0</td>\n",
       "      <td>0.0</td>\n",
       "      <td>45.0</td>\n",
       "      <td>0.0</td>\n",
       "      <td>15.0</td>\n",
       "      <td>1.0</td>\n",
       "      <td>0.0</td>\n",
       "      <td>0.0</td>\n",
       "      <td>0.0</td>\n",
       "      <td>0.0</td>\n",
       "      <td>0.0</td>\n",
       "      <td>0.0</td>\n",
       "      <td>0.0</td>\n",
       "      <td>0.0</td>\n",
       "      <td>0.0</td>\n",
       "      <td>0.0</td>\n",
       "      <td>0.0</td>\n",
       "      <td>15.0</td>\n",
       "      <td>0.0</td>\n",
       "      <td>0.0</td>\n",
       "      <td>0.0</td>\n",
       "    </tr>\n",
       "    <tr>\n",
       "      <th>0.998</th>\n",
       "      <td>1.0</td>\n",
       "      <td>180.0</td>\n",
       "      <td>1.0</td>\n",
       "      <td>310.0</td>\n",
       "      <td>1.0</td>\n",
       "      <td>1.0</td>\n",
       "      <td>77.0</td>\n",
       "      <td>1.0</td>\n",
       "      <td>110.0</td>\n",
       "      <td>1.0</td>\n",
       "      <td>50.0</td>\n",
       "      <td>49.0</td>\n",
       "      <td>0.0</td>\n",
       "      <td>1.0</td>\n",
       "      <td>1.0</td>\n",
       "      <td>1.0</td>\n",
       "      <td>1.0</td>\n",
       "      <td>0.0</td>\n",
       "      <td>1.0</td>\n",
       "      <td>1.0</td>\n",
       "      <td>1.0</td>\n",
       "      <td>1.0</td>\n",
       "      <td>1.0</td>\n",
       "      <td>90.0</td>\n",
       "      <td>0.0</td>\n",
       "      <td>1.0</td>\n",
       "      <td>1.0</td>\n",
       "    </tr>\n",
       "  </tbody>\n",
       "</table>\n",
       "</div>"
      ],
      "text/plain": [
       "       code280289    sBP  code240279  weight  code780799  code360389  height  \\\n",
       "0.002         0.0   85.0         0.0    80.0         0.0         0.0    55.0   \n",
       "0.998         1.0  180.0         1.0   310.0         1.0         1.0    77.0   \n",
       "\n",
       "       code680709    dBP  code320359   BMI  state  code740759  code001139  \\\n",
       "0.002         0.0   45.0         0.0  15.0    1.0         0.0         0.0   \n",
       "0.998         1.0  110.0         1.0  50.0   49.0         0.0         1.0   \n",
       "\n",
       "       code460519  code520579  code710739  code760779  code800999  code390459  \\\n",
       "0.002         0.0         0.0         0.0         0.0         0.0         0.0   \n",
       "0.998         1.0         1.0         1.0         0.0         1.0         1.0   \n",
       "\n",
       "       diabetes  code290319  gender   age  code630679  code580629  code140239  \n",
       "0.002       0.0         0.0     0.0  15.0         0.0         0.0         0.0  \n",
       "0.998       1.0         1.0     1.0  90.0         0.0         1.0         1.0  "
      ]
     },
     "execution_count": 16,
     "metadata": {},
     "output_type": "execute_result"
    }
   ],
   "source": [
    "low = .002\n",
    "high = .998\n",
    "qdf = df.quantile([low, high])\n",
    "\n",
    "print(qdf.loc[low,'age'])\n",
    "qdf"
   ]
  },
  {
   "cell_type": "code",
   "execution_count": 18,
   "metadata": {
    "collapsed": false,
    "scrolled": false
   },
   "outputs": [
    {
     "name": "stdout",
     "output_type": "stream",
     "text": [
      "<class 'pandas.core.frame.DataFrame'>\n",
      "Int64Index: 9552 entries, 0 to 992\n",
      "Data columns (total 27 columns):\n",
      "code280289    9552 non-null int64\n",
      "sBP           9552 non-null int64\n",
      "code240279    9552 non-null int64\n",
      "weight        9552 non-null int64\n",
      "code780799    9552 non-null int64\n",
      "code360389    9552 non-null int64\n",
      "height        9552 non-null int64\n",
      "code680709    9552 non-null int64\n",
      "dBP           9552 non-null int64\n",
      "code320359    9552 non-null int64\n",
      "BMI           9552 non-null int64\n",
      "state         9552 non-null int64\n",
      "code740759    9552 non-null int64\n",
      "code001139    9552 non-null int64\n",
      "code460519    9552 non-null int64\n",
      "code520579    9552 non-null int64\n",
      "code710739    9552 non-null int64\n",
      "code760779    9552 non-null int64\n",
      "code800999    9552 non-null int64\n",
      "code390459    9552 non-null int64\n",
      "diabetes      9552 non-null int64\n",
      "code290319    9552 non-null int64\n",
      "gender        9552 non-null int64\n",
      "age           9552 non-null int64\n",
      "code630679    9552 non-null int64\n",
      "code580629    9552 non-null int64\n",
      "code140239    9552 non-null int64\n",
      "dtypes: int64(27)\n",
      "memory usage: 2.0 MB\n"
     ]
    }
   ],
   "source": [
    "indata = df\n",
    "indata.info()"
   ]
  },
  {
   "cell_type": "code",
   "execution_count": 19,
   "metadata": {
    "collapsed": false
   },
   "outputs": [
    {
     "data": {
      "image/png": "[encoded data removed]",
      "text/plain": [
       "<matplotlib.figure.Figure at 0x7f8833b7e470>"
      ]
     },
     "metadata": {},
     "output_type": "display_data"
    }
   ],
   "source": [
    "count = indata.groupby('BMI').BMI.count()\n",
    "\n",
    "values = count.values\n",
    "indx   = count.index\n",
    "\n",
    "mean = sum(values)/len(indx)\n",
    "variance = np.sqrt(sum((values-mean)**2)/len(indx))\n",
    "\n",
    "plt.bar(indx, values)\n",
    "plt.title('BMI per individual')\n",
    "plt.xticks(rotation='horizontal')\n",
    "plt.show()"
   ]
  },
  {
   "cell_type": "code",
   "execution_count": 20,
   "metadata": {
    "collapsed": false,
    "scrolled": false
   },
   "outputs": [
    {
     "data": {
      "text/html": [
       "<div>\n",
       "<table border=\"1\" class=\"dataframe\">\n",
       "  <thead>\n",
       "    <tr style=\"text-align: right;\">\n",
       "      <th></th>\n",
       "      <th>code280289</th>\n",
       "      <th>sBP</th>\n",
       "      <th>code240279</th>\n",
       "      <th>weight</th>\n",
       "      <th>code780799</th>\n",
       "      <th>code360389</th>\n",
       "      <th>height</th>\n",
       "      <th>code680709</th>\n",
       "      <th>dBP</th>\n",
       "      <th>code320359</th>\n",
       "      <th>BMI</th>\n",
       "      <th>state</th>\n",
       "      <th>code740759</th>\n",
       "      <th>code001139</th>\n",
       "      <th>code460519</th>\n",
       "      <th>code520579</th>\n",
       "      <th>code710739</th>\n",
       "      <th>code760779</th>\n",
       "      <th>code800999</th>\n",
       "      <th>code390459</th>\n",
       "      <th>diabetes</th>\n",
       "      <th>code290319</th>\n",
       "      <th>gender</th>\n",
       "      <th>age</th>\n",
       "      <th>code630679</th>\n",
       "      <th>code580629</th>\n",
       "      <th>code140239</th>\n",
       "    </tr>\n",
       "  </thead>\n",
       "  <tbody>\n",
       "    <tr>\n",
       "      <th>0</th>\n",
       "      <td>0</td>\n",
       "      <td>120</td>\n",
       "      <td>1</td>\n",
       "      <td>270</td>\n",
       "      <td>0</td>\n",
       "      <td>0</td>\n",
       "      <td>69</td>\n",
       "      <td>0</td>\n",
       "      <td>80</td>\n",
       "      <td>0</td>\n",
       "      <td>41</td>\n",
       "      <td>41</td>\n",
       "      <td>0</td>\n",
       "      <td>0</td>\n",
       "      <td>0</td>\n",
       "      <td>0</td>\n",
       "      <td>0</td>\n",
       "      <td>0</td>\n",
       "      <td>0</td>\n",
       "      <td>0</td>\n",
       "      <td>0</td>\n",
       "      <td>0</td>\n",
       "      <td>1</td>\n",
       "      <td>60</td>\n",
       "      <td>0</td>\n",
       "      <td>0</td>\n",
       "      <td>1</td>\n",
       "    </tr>\n",
       "    <tr>\n",
       "      <th>1</th>\n",
       "      <td>0</td>\n",
       "      <td>115</td>\n",
       "      <td>1</td>\n",
       "      <td>140</td>\n",
       "      <td>1</td>\n",
       "      <td>0</td>\n",
       "      <td>64</td>\n",
       "      <td>0</td>\n",
       "      <td>60</td>\n",
       "      <td>0</td>\n",
       "      <td>24</td>\n",
       "      <td>45</td>\n",
       "      <td>0</td>\n",
       "      <td>0</td>\n",
       "      <td>1</td>\n",
       "      <td>0</td>\n",
       "      <td>1</td>\n",
       "      <td>0</td>\n",
       "      <td>0</td>\n",
       "      <td>1</td>\n",
       "      <td>0</td>\n",
       "      <td>0</td>\n",
       "      <td>0</td>\n",
       "      <td>85</td>\n",
       "      <td>0</td>\n",
       "      <td>0</td>\n",
       "      <td>0</td>\n",
       "    </tr>\n",
       "    <tr>\n",
       "      <th>2</th>\n",
       "      <td>0</td>\n",
       "      <td>120</td>\n",
       "      <td>1</td>\n",
       "      <td>220</td>\n",
       "      <td>1</td>\n",
       "      <td>0</td>\n",
       "      <td>68</td>\n",
       "      <td>0</td>\n",
       "      <td>70</td>\n",
       "      <td>0</td>\n",
       "      <td>33</td>\n",
       "      <td>33</td>\n",
       "      <td>0</td>\n",
       "      <td>0</td>\n",
       "      <td>0</td>\n",
       "      <td>0</td>\n",
       "      <td>1</td>\n",
       "      <td>0</td>\n",
       "      <td>1</td>\n",
       "      <td>0</td>\n",
       "      <td>0</td>\n",
       "      <td>0</td>\n",
       "      <td>1</td>\n",
       "      <td>45</td>\n",
       "      <td>0</td>\n",
       "      <td>0</td>\n",
       "      <td>0</td>\n",
       "    </tr>\n",
       "    <tr>\n",
       "      <th>3</th>\n",
       "      <td>0</td>\n",
       "      <td>135</td>\n",
       "      <td>1</td>\n",
       "      <td>200</td>\n",
       "      <td>0</td>\n",
       "      <td>0</td>\n",
       "      <td>72</td>\n",
       "      <td>0</td>\n",
       "      <td>80</td>\n",
       "      <td>0</td>\n",
       "      <td>27</td>\n",
       "      <td>4</td>\n",
       "      <td>0</td>\n",
       "      <td>0</td>\n",
       "      <td>1</td>\n",
       "      <td>0</td>\n",
       "      <td>0</td>\n",
       "      <td>0</td>\n",
       "      <td>0</td>\n",
       "      <td>1</td>\n",
       "      <td>0</td>\n",
       "      <td>0</td>\n",
       "      <td>1</td>\n",
       "      <td>60</td>\n",
       "      <td>0</td>\n",
       "      <td>0</td>\n",
       "      <td>0</td>\n",
       "    </tr>\n",
       "    <tr>\n",
       "      <th>4</th>\n",
       "      <td>0</td>\n",
       "      <td>125</td>\n",
       "      <td>1</td>\n",
       "      <td>140</td>\n",
       "      <td>1</td>\n",
       "      <td>1</td>\n",
       "      <td>62</td>\n",
       "      <td>0</td>\n",
       "      <td>80</td>\n",
       "      <td>0</td>\n",
       "      <td>25</td>\n",
       "      <td>4</td>\n",
       "      <td>0</td>\n",
       "      <td>0</td>\n",
       "      <td>0</td>\n",
       "      <td>0</td>\n",
       "      <td>1</td>\n",
       "      <td>0</td>\n",
       "      <td>1</td>\n",
       "      <td>1</td>\n",
       "      <td>0</td>\n",
       "      <td>0</td>\n",
       "      <td>0</td>\n",
       "      <td>65</td>\n",
       "      <td>0</td>\n",
       "      <td>1</td>\n",
       "      <td>0</td>\n",
       "    </tr>\n",
       "  </tbody>\n",
       "</table>\n",
       "</div>"
      ],
      "text/plain": [
       "   code280289  sBP  code240279  weight  code780799  code360389  height  \\\n",
       "0           0  120           1     270           0           0      69   \n",
       "1           0  115           1     140           1           0      64   \n",
       "2           0  120           1     220           1           0      68   \n",
       "3           0  135           1     200           0           0      72   \n",
       "4           0  125           1     140           1           1      62   \n",
       "\n",
       "   code680709  dBP  code320359  BMI  state  code740759  code001139  \\\n",
       "0           0   80           0   41     41           0           0   \n",
       "1           0   60           0   24     45           0           0   \n",
       "2           0   70           0   33     33           0           0   \n",
       "3           0   80           0   27      4           0           0   \n",
       "4           0   80           0   25      4           0           0   \n",
       "\n",
       "   code460519  code520579  code710739  code760779  code800999  code390459  \\\n",
       "0           0           0           0           0           0           0   \n",
       "1           1           0           1           0           0           1   \n",
       "2           0           0           1           0           1           0   \n",
       "3           1           0           0           0           0           1   \n",
       "4           0           0           1           0           1           1   \n",
       "\n",
       "   diabetes  code290319  gender  age  code630679  code580629  code140239  \n",
       "0         0           0       1   60           0           0           1  \n",
       "1         0           0       0   85           0           0           0  \n",
       "2         0           0       1   45           0           0           0  \n",
       "3         0           0       1   60           0           0           0  \n",
       "4         0           0       0   65           0           1           0  "
      ]
     },
     "execution_count": 20,
     "metadata": {},
     "output_type": "execute_result"
    }
   ],
   "source": [
    "indata.head()"
   ]
  },
  {
   "cell_type": "code",
   "execution_count": 46,
   "metadata": {
    "collapsed": false,
    "scrolled": false
   },
   "outputs": [
    {
     "data": {
      "image/png": "[encoded data removed]",
      "text/plain": [
       "<matplotlib.figure.Figure at 0x7f882c0c4978>"
      ]
     },
     "metadata": {},
     "output_type": "display_data"
    }
   ],
   "source": [
    "#distribution of males and females from different age groups with and without diabetes\n",
    "plot_distribution( indata , var = 'age' , target = 'diabetes' , row = 'gender' )"
   ]
  },
  {
   "cell_type": "code",
   "execution_count": 85,
   "metadata": {
    "collapsed": false
   },
   "outputs": [
    {
     "data": {
      "text/plain": [
       "<matplotlib.axes._subplots.AxesSubplot at 0x7f882f8a5da0>"
      ]
     },
     "execution_count": 85,
     "metadata": {},
     "output_type": "execute_result"
    },
    {
     "data": {
      "image/png": "[encoded data removed]",
      "text/plain": [
       "<matplotlib.figure.Figure at 0x7f882faa5c88>"
      ]
     },
     "metadata": {},
     "output_type": "display_data"
    }
   ],
   "source": [
    "# response - ppl who have diabetes!!!\n",
    "fig, (axis1) = plt.subplots(1,1,figsize=(15,5))\n",
    "sns.countplot(x=indata[\"diabetes\"], order=[0,1], ax=axis1)"
   ]
  },
  {
   "cell_type": "code",
   "execution_count": 22,
   "metadata": {
    "collapsed": true
   },
   "outputs": [],
   "source": [
    "from sklearn.model_selection import train_test_split\n",
    "from sklearn.neural_network import MLPClassifier\n",
    "from sklearn.neighbors import KNeighborsClassifier\n",
    "from sklearn.svm import SVC\n",
    "from sklearn.gaussian_process import GaussianProcessClassifier\n",
    "from sklearn.gaussian_process.kernels import RBF\n",
    "from sklearn.tree import DecisionTreeClassifier\n",
    "from sklearn.ensemble import RandomForestClassifier, AdaBoostClassifier\n",
    "from sklearn.naive_bayes import GaussianNB\n",
    "from sklearn.discriminant_analysis import QuadraticDiscriminantAnalysis\n",
    "from sklearn.model_selection import cross_val_score"
   ]
  },
  {
   "cell_type": "code",
   "execution_count": 24,
   "metadata": {
    "collapsed": false
   },
   "outputs": [],
   "source": [
    "X = indata.drop([\"diabetes\",\"state\", \"gender\"],axis=1)\n",
    "y = indata[\"diabetes\"]"
   ]
  },
  {
   "cell_type": "code",
   "execution_count": 25,
   "metadata": {
    "collapsed": true
   },
   "outputs": [],
   "source": [
    "X = indata.drop([\"diabetes\"],axis=1)\n",
    "y = indata[\"diabetes\"]"
   ]
  },
  {
   "cell_type": "code",
   "execution_count": 26,
   "metadata": {
    "collapsed": false
   },
   "outputs": [
    {
     "data": {
      "text/plain": [
       "Index(['code280289', 'sBP', 'code240279', 'weight', 'code780799', 'code360389',\n",
       "       'height', 'code680709', 'dBP', 'code320359', 'BMI', 'state',\n",
       "       'code740759', 'code001139', 'code460519', 'code520579', 'code710739',\n",
       "       'code760779', 'code800999', 'code390459', 'code290319', 'gender', 'age',\n",
       "       'code630679', 'code580629', 'code140239'],\n",
       "      dtype='object')"
      ]
     },
     "execution_count": 26,
     "metadata": {},
     "output_type": "execute_result"
    }
   ],
   "source": [
    "X.columns"
   ]
  },
  {
   "cell_type": "code",
   "execution_count": 27,
   "metadata": {
    "collapsed": true
   },
   "outputs": [],
   "source": [
    "X_train, X_test, y_train, y_test = train_test_split(X, y, test_size=0.15, random_state=0)"
   ]
  },
  {
   "cell_type": "markdown",
   "metadata": {},
   "source": [
    "# Modeling\n",
    "\n",
    "1. Decision Tree\n",
    "    * gini\n",
    "    * entropy\n",
    "    * trimming\n",
    "    * different break up of test vs. traning data\n",
    "    * different CVs\n"
   ]
  },
  {
   "cell_type": "code",
   "execution_count": 28,
   "metadata": {
    "collapsed": false
   },
   "outputs": [
    {
     "name": "stdout",
     "output_type": "stream",
     "text": [
      "[ 0.74830769  0.73706897  0.74815271  0.73937153  0.73937153]\n",
      "mean error 0.742454487115\n"
     ]
    }
   ],
   "source": [
    "#cross validation for average error metric\n",
    "clf = DecisionTreeClassifier(criterion = \"entropy\")\n",
    "scores = cross_val_score(clf, X_train, y_train, cv=5)\n",
    "print(scores)\n",
    "print(\"mean error\", np.mean(scores))"
   ]
  },
  {
   "cell_type": "code",
   "execution_count": 48,
   "metadata": {
    "collapsed": false
   },
   "outputs": [
    {
     "name": "stdout",
     "output_type": "stream",
     "text": [
      "[ 0.74523077  0.74507389  0.716133    0.73505853  0.73998768]\n",
      "mean error 0.736296775301\n"
     ]
    }
   ],
   "source": [
    "#cross validation for average error metric\n",
    "clf = DecisionTreeClassifier(criterion = \"gini\")\n",
    "scores = cross_val_score(clf, X_train, y_train, cv=5)\n",
    "print(scores)\n",
    "print(\"mean error\", np.mean(scores))"
   ]
  },
  {
   "cell_type": "code",
   "execution_count": 47,
   "metadata": {
    "collapsed": true
   },
   "outputs": [],
   "source": [
    "model  = DecisionTreeClassifier(criterion = 'entropy')"
   ]
  },
  {
   "cell_type": "code",
   "execution_count": 54,
   "metadata": {
    "collapsed": true
   },
   "outputs": [],
   "source": [
    "model  = model.fit(X_train, y_train)"
   ]
  },
  {
   "cell_type": "code",
   "execution_count": 55,
   "metadata": {
    "collapsed": false
   },
   "outputs": [
    {
     "data": {
      "text/plain": [
       "sklearn.tree.tree.DecisionTreeClassifier"
      ]
     },
     "execution_count": 55,
     "metadata": {},
     "output_type": "execute_result"
    }
   ],
   "source": [
    "type(model)"
   ]
  },
  {
   "cell_type": "code",
   "execution_count": 56,
   "metadata": {
    "collapsed": true
   },
   "outputs": [],
   "source": [
    "response = model.predict(X_test)"
   ]
  },
  {
   "cell_type": "code",
   "execution_count": 58,
   "metadata": {
    "collapsed": false
   },
   "outputs": [
    {
     "data": {
      "text/plain": [
       "numpy.ndarray"
      ]
     },
     "execution_count": 58,
     "metadata": {},
     "output_type": "execute_result"
    }
   ],
   "source": [
    "type(response)"
   ]
  },
  {
   "cell_type": "code",
   "execution_count": 60,
   "metadata": {
    "collapsed": true
   },
   "outputs": [],
   "source": [
    "import pydotplus as pydot\n",
    "import sklearn.tree as tree\n",
    "from IPython.display import Image\n",
    "from sklearn.externals.six import StringIO"
   ]
  },
  {
   "cell_type": "code",
   "execution_count": 100,
   "metadata": {
    "collapsed": false
   },
   "outputs": [],
   "source": [
    "dot_data = StringIO()\n",
    "f = tree.export_graphviz(model, out_file=dot_data, feature_names = X_train.columns)\n",
    "graph = pydot.graph_from_dot_data(dot_data.getvalue())"
   ]
  },
  {
   "cell_type": "code",
   "execution_count": 98,
   "metadata": {
    "collapsed": false
   },
   "outputs": [
    {
     "name": "stdout",
     "output_type": "stream",
     "text": [
      "<class 'pydotplus.graphviz.Dot'>\n",
      "<class '_io.StringIO'>\n"
     ]
    }
   ],
   "source": [
    "print(type(graph))\n",
    "print(type(dot_data))"
   ]
  },
  {
   "cell_type": "code",
   "execution_count": 129,
   "metadata": {
    "collapsed": false
   },
   "outputs": [
    {
     "name": "stdout",
     "output_type": "stream",
     "text": [
      "[ 0.72738462  0.74384236  0.70935961  0.72951325  0.73998768]\n"
     ]
    }
   ],
   "source": [
    "#after trimming\n",
    "clf = DecisionTreeClassifier()\n",
    "scores = cross_val_score(clf, X_train, y_train, cv=5)\n",
    "print(scores)"
   ]
  },
  {
   "cell_type": "code",
   "execution_count": 76,
   "metadata": {
    "collapsed": false
   },
   "outputs": [
    {
     "name": "stdout",
     "output_type": "stream",
     "text": [
      "[ 0.74704492  0.75399172  0.73979894  0.74319527  0.7295858 ]\n"
     ]
    }
   ],
   "source": [
    "clf = DecisionTreeClassifier()\n",
    "scores = cross_val_score(clf, X_train, y_train, cv=5)\n",
    "print(scores)"
   ]
  },
  {
   "cell_type": "code",
   "execution_count": 60,
   "metadata": {
    "collapsed": true
   },
   "outputs": [],
   "source": [
    "names = [\"Nearest Neighbors\", \"Linear SVM\", \"RBF SVM\", \"Decision Tree\", \"Neural Net\", \"AdaBoost\"]\n",
    "classifiers = [\n",
    "    KNeighborsClassifier(),\n",
    "    SVC(kernel=\"linear\"),\n",
    "    SVC(kernel=\"rbf\"),\n",
    "    DecisionTreeClassifier(),\n",
    "    MLPClassifier(),\n",
    "    AdaBoostClassifier()\n",
    "]"
   ]
  },
  {
   "cell_type": "code",
   "execution_count": 59,
   "metadata": {
    "collapsed": true
   },
   "outputs": [],
   "source": [
    "names = [\"Nearest Neighbors\", \"Linear SVM\", \"RBF SVM\", \"Gaussian Process\",\n",
    "         \"Decision Tree\", \"Random Forest\", \"Neural Net\", \"AdaBoost\",\n",
    "         \"Naive Bayes\", \"QDA\"]\n",
    "\n",
    "classifiers = [\n",
    "    KNeighborsClassifier(3),\n",
    "    SVC(kernel=\"linear\", C=0.025),\n",
    "    SVC(gamma=2, C=1),\n",
    "    GaussianProcessClassifier(1.0 * RBF(1.0), warm_start=True),\n",
    "    DecisionTreeClassifier(max_depth=5),\n",
    "    RandomForestClassifier(max_depth=5, n_estimators=10, max_features=1),\n",
    "    MLPClassifier(hidden_layer_sizes=(50,), max_iter=10, alpha=1e-4,\n",
    "                    solver='sgd', verbose=10, tol=1e-4, random_state=1,\n",
    "                    learning_rate_init=.1),\n",
    "    AdaBoostClassifier(),\n",
    "    GaussianNB(),\n",
    "    QuadraticDiscriminantAnalysis()\n",
    "]"
   ]
  },
  {
   "cell_type": "code",
   "execution_count": 52,
   "metadata": {
    "collapsed": false
   },
   "outputs": [
    {
     "name": "stdout",
     "output_type": "stream",
     "text": [
      "[ 0.80984615  0.79741379  0.79741379  0.80406654  0.78743068]\n",
      "mean error 0.799234193482\n"
     ]
    }
   ],
   "source": [
    "clf = KNeighborsClassifier(n_neighbors=8)\n",
    "scores = cross_val_score(clf, X_train, y_train, cv=5)\n",
    "print(scores)\n",
    "print(\"mean error\", np.mean(scores))"
   ]
  },
  {
   "cell_type": "code",
   "execution_count": 51,
   "metadata": {
    "collapsed": false
   },
   "outputs": [
    {
     "name": "stdout",
     "output_type": "stream",
     "text": [
      "[ 0.808       0.80788177  0.80788177  0.80837954  0.80837954]\n",
      "mean error 0.808104526981\n"
     ]
    }
   ],
   "source": [
    "clf = SVC(kernel=\"linear\")\n",
    "scores = cross_val_score(clf, X_train, y_train, cv=5)\n",
    "print(scores)\n",
    "print(\"mean error\", np.mean(scores))"
   ]
  },
  {
   "cell_type": "code",
   "execution_count": 53,
   "metadata": {
    "collapsed": false,
    "scrolled": true
   },
   "outputs": [
    {
     "name": "stdout",
     "output_type": "stream",
     "text": [
      "[ 0.808       0.80849754  0.80788177  0.8077634   0.80837954]\n",
      "mean error 0.808104451102\n"
     ]
    }
   ],
   "source": [
    "clf = SVC(kernel=\"rbf\")\n",
    "scores = cross_val_score(clf, X_train, y_train, cv=5)\n",
    "print(scores)\n",
    "print(\"mean error\", np.mean(scores))"
   ]
  },
  {
   "cell_type": "code",
   "execution_count": 74,
   "metadata": {
    "collapsed": false
   },
   "outputs": [
    {
     "name": "stdout",
     "output_type": "stream",
     "text": [
      "Iteration 1, loss = 0.55513477\n",
      "Iteration 2, loss = 0.49441217\n",
      "Iteration 3, loss = 0.48936687\n",
      "Iteration 4, loss = 0.48922450\n",
      "Iteration 5, loss = 0.48915804\n",
      "Iteration 6, loss = 0.48915186\n",
      "Iteration 7, loss = 0.48905551\n",
      "Training loss did not improve more than tol=0.000100 for two consecutive epochs. Stopping.\n",
      "Iteration 1, loss = 0.57281489\n",
      "Iteration 2, loss = 0.50453594\n",
      "Iteration 3, loss = 0.48969632\n",
      "Iteration 4, loss = 0.48894830\n",
      "Iteration 5, loss = 0.48908722\n",
      "Iteration 6, loss = 0.48923552\n",
      "Iteration 7, loss = 0.48914822\n",
      "Training loss did not improve more than tol=0.000100 for two consecutive epochs. Stopping.\n",
      "Iteration 1, loss = 0.54837064\n",
      "Iteration 2, loss = 0.50083627\n",
      "Iteration 3, loss = 0.48947051\n",
      "Iteration 4, loss = 0.48905272\n",
      "Iteration 5, loss = 0.48906474\n",
      "Iteration 6, loss = 0.48906468\n",
      "Iteration 7, loss = 0.48921567\n",
      "Training loss did not improve more than tol=0.000100 for two consecutive epochs. Stopping.\n",
      "Iteration 1, loss = 0.55447372\n",
      "Iteration 2, loss = 0.49694836\n",
      "Iteration 3, loss = 0.48926827\n",
      "Iteration 4, loss = 0.48930208\n",
      "Iteration 5, loss = 0.48931108\n",
      "Iteration 6, loss = 0.48933092\n",
      "Training loss did not improve more than tol=0.000100 for two consecutive epochs. Stopping.\n",
      "Iteration 1, loss = 0.54976184\n",
      "Iteration 2, loss = 0.49670684\n",
      "Iteration 3, loss = 0.48934580\n",
      "Iteration 4, loss = 0.48942176\n",
      "Iteration 5, loss = 0.48927662\n",
      "Iteration 6, loss = 0.48937980\n",
      "Training loss did not improve more than tol=0.000100 for two consecutive epochs. Stopping.\n",
      "[ 0.808       0.80788177  0.80788177  0.80837954  0.80837954]\n",
      "mean error 0.808104526981\n"
     ]
    }
   ],
   "source": [
    "clf =  MLPClassifier(hidden_layer_sizes=(5,), alpha=1e-5,\n",
    "                    solver='adam', verbose=10, tol=1e-4, random_state=1,\n",
    "                    learning_rate_init=.1)\n",
    "scores = cross_val_score(clf, X_train, y_train, cv=5)\n",
    "print(scores)\n",
    "print(\"mean error\", np.mean(scores))"
   ]
  },
  {
   "cell_type": "code",
   "execution_count": 79,
   "metadata": {
    "collapsed": false
   },
   "outputs": [
    {
     "name": "stdout",
     "output_type": "stream",
     "text": [
      "[ 0.81907692  0.80972906  0.79187192  0.80899569  0.81700555]\n",
      "mean error 0.809335828117\n"
     ]
    }
   ],
   "source": [
    "clf =  MLPClassifier()\n",
    "scores = cross_val_score(clf, X_train, y_train, cv=5)\n",
    "print(scores)\n",
    "print(\"mean error\", np.mean(scores))"
   ]
  },
  {
   "cell_type": "code",
   "execution_count": null,
   "metadata": {
    "collapsed": true
   },
   "outputs": [],
   "source": [
    "from sklearn.model_selection import cross_val_score\n",
    "\n",
    "# iterate over classifiers\n",
    "results = {}\n",
    "for name, clf in zip(names, classifiers):\n",
    "    scores = cross_val_score(clf, X_train, y_train, cv=5)\n",
    "    results[name] = scores\n"
   ]
  },
  {
   "cell_type": "code",
   "execution_count": null,
   "metadata": {
    "collapsed": true
   },
   "outputs": [],
   "source": [
    "for name, scores in results.items():\n",
    "    print(\"%20s | Accuracy: %0.2f%% (+/- %0.2f%%)\" % (name, 100*scores.mean(), 100*scores.std() * 2))"
   ]
  }
 ],
 "metadata": {
  "anaconda-cloud": {},
  "kernelspec": {
   "display_name": "Python 3",
   "language": "python",
   "name": "python3"
  },
  "language_info": {
   "codemirror_mode": {
    "name": "ipython",
    "version": 3
   },
   "file_extension": ".py",
   "mimetype": "text/x-python",
   "name": "python",
   "nbconvert_exporter": "python",
   "pygments_lexer": "ipython3",
   "version": "3.5.2"
  }
 },
 "nbformat": 4,
 "nbformat_minor": 2
}
