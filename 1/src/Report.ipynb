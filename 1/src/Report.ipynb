{
 "cells": [
  {
   "cell_type": "code",
   "execution_count": 13,
   "metadata": {
    "collapsed": false
   },
   "outputs": [
    {
     "data": {
      "text/html": [
       "<script>\n",
       "  function code_toggle() {\n",
       "    if (code_shown){\n",
       "      $('div.input').hide('500');\n",
       "      $('#toggleButton').val('Show Code')\n",
       "    } else {\n",
       "      $('div.input').show('500');\n",
       "      $('#toggleButton').val('Hide Code')\n",
       "    }\n",
       "    code_shown = !code_shown\n",
       "  }\n",
       "\n",
       "  $( document ).ready(function(){\n",
       "    code_shown=false;\n",
       "    $('div.input').hide()\n",
       "  });\n",
       "</script>\n",
       "<form action=\"javascript:code_toggle()\"><input type=\"submit\" id=\"toggleButton\" value=\"Show Code\"></form>\n"
      ],
      "text/plain": [
       "<IPython.core.display.HTML object>"
      ]
     },
     "execution_count": 13,
     "metadata": {},
     "output_type": "execute_result"
    }
   ],
   "source": [
    "from IPython.display import HTML\n",
    "HTML('''<script>\n",
    "  function code_toggle() {\n",
    "    if (code_shown){\n",
    "      $('div.input').hide('500');\n",
    "      $('#toggleButton').val('Show Code')\n",
    "    } else {\n",
    "      $('div.input').show('500');\n",
    "      $('#toggleButton').val('Hide Code')\n",
    "    }\n",
    "    code_shown = !code_shown\n",
    "  }\n",
    "\n",
    "  $( document ).ready(function(){\n",
    "    code_shown=false;\n",
    "    $('div.input').hide()\n",
    "  });\n",
    "</script>\n",
    "<form action=\"javascript:code_toggle()\"><input type=\"submit\" id=\"toggleButton\" value=\"Show Code\"></form>\n",
    "''')"
   ]
  },
  {
   "cell_type": "markdown",
   "metadata": {},
   "source": [
    "# Abstract\n",
    "\n",
    "In this study, we are interested in developing classification methods for predicting patients \n",
    "with Diabetes Type II based on two different sets of health records.  Several common binary classification \n",
    "methods are compared for this task -  \n",
    " - K-Nearest Neighbors, \n",
    " - Decision trees, \n",
    " - SVM, \n",
    " - Boosting, \n",
    " - Neural Nets. "
   ]
  },
  {
   "cell_type": "markdown",
   "metadata": {},
   "source": [
    "# Introduction\n",
    "\n",
    "Type 2 Diabetes Mellitus is a metabolic disorder that is defined by high blood glucose levels due to insulin resistance or an impaired ability to produce insulin,viz. the harmone that helps cells absorb and metabolize glucose from blood stream.\n",
    "\n",
    "As of 2014, as per CDC records, over 22 million people in the United States have diabetes. If current trends continue, the CDC estimates 1 in 3 U.S. adults could have diabetes by 2050. Type 2 diabetes is responsible for 90% of all diabetes cases. Hereafter, we will abbreviate type 2 diabetes as diabetes. \n",
    "\n",
    "Diabetes increases the retinopathy, kidney failure, heart disease and stroke and peripheral vascular disease. It is especially prevalent in racial groups with low access to healthcare, such as Native Americans (15.9%), African Americans (13.2%) and Hispanics (12.8%). An estimated 27.8% of people with Diabetes Mellitus Type II in the United States are undiagnosed. A primary reason for this underdiagnosis is the steep cost assosciated with the clinical procedures. For instance, despite the dangers of leaving diabetes untreated, the WHO does not recommend universal screening because of the expense. Current clinical procedures have focused on evidence-based screening, where patients exhibiting risk factors for diabetes such as hypertension and obesity are screened. This approach while also employing expensive human resources, has the distinct disadvantage of being low-throughput and error-prone. As a result, many patients are often detected late in the progression of the disease, when preventive measures are significantly less effective. \n",
    "\n",
    "With burgeoning health care costs both to the individuals and to health care providers, there is an urgent need to develop efficient ways to detect diabetes and diabetes vulnerability before the actual onset of the condition. This allows providers to screen patients and advise remedial courses of action. Over the recent years there has been an shift towards structred, electronic storage of patient history in medical facilities. ***The premise of this study is to employ supervised learning classifiers on these \"Eletronic Health Records\" to develop predictive models for early diagnosis of diabetes.***\n",
    "\n",
    "An electronic health record (EHR), refers to the systematized collection of patient and population electronically-stored health information in a digital format. These records can be shared across different health care settings. Records are shared through network-connected, enterprise-wide information systems or other information networks and exchanges. EHRs may include a range of data, including demographics, medical history, medication and allergies, immunization status, laboratory test results, radiology images, vital signs, personal statistics like age and weight, and billing information.[wiki](https://en.wikipedia.org/wiki/Electronic_health_record)\n",
    "\n",
    "A possibile use for the availability of this structured data in the form of EHR is to predict prevalent diseases such as diabetes. Diabetes in particular, is present in 8.5% of the population in the US and being able to predict diabetes diagnosis from past hospital visits is a step forward towards early detection of diabetes type II as well as understanding its relations with other diagnosis and risk factors. \n"
   ]
  },
  {
   "cell_type": "markdown",
   "metadata": {},
   "source": [
    "# Datasets\n",
    "\n",
    "This study shall use two different de-identified data sets of patient history  - one provided by *EHR vendor Practice Fusion in their kaggle challenge* and another provided by the *National Institute of Diabetes and Digestive and Kidney Diseases*.\n",
    "\n",
    "The first dataset has been obtained as a small constrained, controlled set from a much larger dataset. In particular, all patients here are females at least 21 years old of Pima Indian heritage. The dataset can be obtained from Kaggle and this [link](https://www.kaggle.com/uciml/pima-indians-diabetes-database)."
   ]
  },
  {
   "cell_type": "code",
   "execution_count": null,
   "metadata": {
    "collapsed": true
   },
   "outputs": [],
   "source": []
  }
 ],
 "metadata": {
  "anaconda-cloud": {},
  "kernelspec": {
   "display_name": "Python 3",
   "language": "python",
   "name": "python3"
  },
  "language_info": {
   "codemirror_mode": {
    "name": "ipython",
    "version": 3
   },
   "file_extension": ".py",
   "mimetype": "text/x-python",
   "name": "python",
   "nbconvert_exporter": "python",
   "pygments_lexer": "ipython3",
   "version": "3.5.2"
  }
 },
 "nbformat": 4,
 "nbformat_minor": 1
}
