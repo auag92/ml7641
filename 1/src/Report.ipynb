{
 "cells": [
  {
   "cell_type": "markdown",
   "metadata": {},
   "source": [
    "# Abstract\n",
    "\n",
    "In this study, we are interested in developing\n",
    "classification methods for predicting patients with Diabetes Type\n",
    "II based on two different sets of health records.  Several common binary\n",
    "classification methods are compared for this task - \n",
    " - K-Nearest Neighbors, \n",
    " - Decision trees, \n",
    " - SVM, \n",
    " - Boosted Decision Trees, \n",
    " - Neural Nets. \n",
    "\n",
    "For each of these supervised learning models parameter optimization, model complexity and learning rate are evaluated.   "
   ]
  }
 ],
 "metadata": {
  "kernelspec": {
   "display_name": "Python [default]",
   "language": "python",
   "name": "python3"
  },
  "language_info": {
   "codemirror_mode": {
    "name": "ipython",
    "version": 3
   },
   "file_extension": ".py",
   "mimetype": "text/x-python",
   "name": "python",
   "nbconvert_exporter": "python",
   "pygments_lexer": "ipython3",
   "version": "3.5.2"
  }
 },
 "nbformat": 4,
 "nbformat_minor": 1
}
