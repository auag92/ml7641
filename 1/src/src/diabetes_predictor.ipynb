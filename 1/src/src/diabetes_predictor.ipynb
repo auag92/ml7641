{
 "cells": [
  {
   "cell_type": "markdown",
   "metadata": {},
   "source": [
    "# Identify patients diagnosed with Type 2 Diabetes\n",
    "\n",
    "In the first phase of this prediction challenge Practice Fusion invited anyone with an interest in using electronic medical record data to improve public health to submit and vote on ideas for prediction problems based on a new dataset of 10,000 de-identified medical records. The votes are in and Shea Parkes' top voted submission has won.\n",
    "\n",
    "Practice Fusion is now sponsoring the second and final phase of the challenge inspired by the winning problem: Identify patients diagnosed with Type 2 Diabetes Mellitus.\n",
    "\n",
    "Over 25 million people, or nearly 8.3% of the entire United States population, have diabetes. Diabetes is also associated with a wide range of complications from heart disease and stroke to blindness and kidney disease. Predicting who has diabetes will lead to a better understanding of these complications and the common comorbidities that diabetics suffer.\n",
    "\n",
    "The Challenge: Given a de-identified data set of patient electronic health records, build a model to determine who has a diabetes diagnosis, as defined by ICD9 codes 250, 250.0, 250.*0 or 250.*2 (e.g., 250, 250.0, 250.00, 250.10, 250.52, etc).\n",
    "    \n",
    "[Challenge Link](https://www.kaggle.com/c/pf2012-diabetes)"
   ]
  },
  {
   "cell_type": "code",
   "execution_count": 1,
   "metadata": {
    "collapsed": true
   },
   "outputs": [],
   "source": [
    "#ignore warnings\n",
    "import warnings\n",
    "warnings.filterwarnings('ignore')\n",
    "\n",
    "#for table-like data and matrices\n",
    "import numpy as np\n",
    "import pandas as pd\n",
    "\n",
    "#Visualisation\n",
    "import matplotlib as mpl\n",
    "import matplotlib.pylab as pylab\n",
    "import matplotlib.pyplot as plt\n",
    "import seaborn as sns\n",
    "\n",
    "import datetime\n",
    "\n",
    "#Configure Visualisations\n",
    "%matplotlib inline\n",
    "mpl.style.use( 'ggplot' )\n",
    "sns.set_style( 'white' )\n",
    "pylab.rcParams[ 'figure.figsize' ] = 8 , 6"
   ]
  },
  {
   "cell_type": "code",
   "execution_count": 2,
   "metadata": {
    "collapsed": true
   },
   "outputs": [],
   "source": [
    "def plot_histograms( df , variables , n_rows , n_cols ):\n",
    "    fig = plt.figure( figsize = ( 16 , 12 ) )\n",
    "    for i, var_name in enumerate( variables ):\n",
    "        ax=fig.add_subplot( n_rows , n_cols , i+1 )\n",
    "        df[ var_name ].hist( bins=10 , ax=ax )\n",
    "        ax.set_title( 'Skew: ' + str( round( float( df[ var_name ].skew() ) , ) ) ) # + ' ' + var_name ) #var_name+\" Distribution\")\n",
    "        ax.set_xticklabels( [] , visible=False )\n",
    "        ax.set_yticklabels( [] , visible=False )\n",
    "    fig.tight_layout()  # Improves appearance a bit.\n",
    "    plt.show()\n",
    "\n",
    "def plot_distribution( df , var , target , **kwargs ):\n",
    "    row = kwargs.get( 'row' , None )\n",
    "    col = kwargs.get( 'col' , None )\n",
    "    facet = sns.FacetGrid( df , hue=target , aspect=4 , row = row , col = col )\n",
    "    facet.map( sns.kdeplot , var , shade= True )\n",
    "    facet.set( xlim=( 0 , df[ var ].max() ) )\n",
    "    facet.add_legend()\n",
    "\n",
    "def plot_categories( df , cat , target , **kwargs ):\n",
    "    row = kwargs.get( 'row' , None )\n",
    "    col = kwargs.get( 'col' , None )\n",
    "    facet = sns.FacetGrid( df , row = row , col = col )\n",
    "    facet.map( sns.barplot , cat , target )\n",
    "    facet.add_legend()\n",
    "\n",
    "def plot_correlation_map( df ):\n",
    "    corr = df.corr()\n",
    "    _ , ax = plt.subplots( figsize =( 12 , 10 ) )\n",
    "    cmap = sns.diverging_palette( 220 , 10 , as_cmap = True )\n",
    "    _ = sns.heatmap(\n",
    "        corr, \n",
    "        cmap = cmap,\n",
    "        square=True, \n",
    "        cbar_kws={ 'shrink' : .9 }, \n",
    "        ax=ax, \n",
    "        annot = True, \n",
    "        annot_kws = { 'fontsize' : 12 }\n",
    "    )\n",
    "\n",
    "def describe_more( df ):\n",
    "\n",
    "    var = [] ; l = [] ; t = []\n",
    "    for x in df:\n",
    "        var.append( x )\n",
    "        l.append( len( pd.value_counts( df[ x ] ) ) )\n",
    "        t.append( df[ x ].dtypes )\n",
    "    levels = pd.DataFrame( { 'Variable' : var , 'Levels' : l , 'Datatype' : t } )\n",
    "    levels.sort_values( by = 'Levels' , inplace = True )\n",
    "    return levels    \n",
    "    \n",
    "\n",
    "def plot_variable_importance( X , y ):\n",
    "    tree = DecisionTreeClassifier( random_state = 99 )\n",
    "    tree.fit( X , y )\n",
    "    plot_model_var_imp( tree , X , y )\n",
    "    \n",
    "def plot_model_var_imp( model , X , y ):\n",
    "    imp = pd.DataFrame( \n",
    "        model.feature_importances_  , \n",
    "        columns = [ 'Importance' ] , \n",
    "        index = X.columns \n",
    "    )\n",
    "    imp = imp.sort_values( [ 'Importance' ] , ascending = True )\n",
    "    imp[ : 10 ].plot( kind = 'barh' )\n",
    "    print (model.score( X , y ))\n",
    "    \n",
    "def print_full(x):\n",
    "    pd.set_option('display.max_rows', len(x))\n",
    "    print(x)\n",
    "    pd.reset_option('display.max_rows')"
   ]
  },
  {
   "cell_type": "code",
   "execution_count": 3,
   "metadata": {
    "collapsed": false
   },
   "outputs": [],
   "source": [
    "train  = pd.read_csv(\"./train.csv\")\n",
    "test   = pd.read_csv(\"./test.csv\")\n",
    "frames = [train, test]\n",
    "indata = pd.concat(frames)"
   ]
  },
  {
   "cell_type": "code",
   "execution_count": 4,
   "metadata": {
    "collapsed": false
   },
   "outputs": [
    {
     "name": "stdout",
     "output_type": "stream",
     "text": [
      "<class 'pandas.core.frame.DataFrame'>\n",
      "Int64Index: 9947 entries, 0 to 992\n",
      "Data columns (total 27 columns):\n",
      "code280289    9947 non-null int64\n",
      "sBP           9947 non-null int64\n",
      "code240279    9947 non-null int64\n",
      "weight        9947 non-null int64\n",
      "code780799    9947 non-null int64\n",
      "code360389    9947 non-null int64\n",
      "height        9947 non-null int64\n",
      "code680709    9947 non-null int64\n",
      "dBP           9947 non-null int64\n",
      "code320359    9947 non-null int64\n",
      "BMI           9947 non-null int64\n",
      "state         9947 non-null object\n",
      "code740759    9947 non-null int64\n",
      "code001139    9947 non-null int64\n",
      "code460519    9947 non-null int64\n",
      "code520579    9947 non-null int64\n",
      "code710739    9947 non-null int64\n",
      "code760779    9947 non-null int64\n",
      "code800999    9947 non-null int64\n",
      "code390459    9947 non-null int64\n",
      "diabetes      9947 non-null int64\n",
      "code290319    9947 non-null int64\n",
      "gender        9947 non-null object\n",
      "age           9947 non-null int64\n",
      "code630679    9947 non-null int64\n",
      "code580629    9947 non-null int64\n",
      "code140239    9947 non-null int64\n",
      "dtypes: int64(25), object(2)\n",
      "memory usage: 2.1+ MB\n",
      "None\n"
     ]
    }
   ],
   "source": [
    "print(indata.info())"
   ]
  },
  {
   "cell_type": "code",
   "execution_count": 5,
   "metadata": {
    "collapsed": false,
    "scrolled": true
   },
   "outputs": [
    {
     "name": "stdout",
     "output_type": "stream",
     "text": [
      "# of rows 9947\n",
      "# of columns 27\n"
     ]
    },
    {
     "data": {
      "text/html": [
       "<div>\n",
       "<table border=\"1\" class=\"dataframe\">\n",
       "  <thead>\n",
       "    <tr style=\"text-align: right;\">\n",
       "      <th></th>\n",
       "      <th>code280289</th>\n",
       "      <th>sBP</th>\n",
       "      <th>code240279</th>\n",
       "      <th>weight</th>\n",
       "      <th>code780799</th>\n",
       "      <th>code360389</th>\n",
       "      <th>height</th>\n",
       "      <th>code680709</th>\n",
       "      <th>dBP</th>\n",
       "      <th>code320359</th>\n",
       "      <th>BMI</th>\n",
       "      <th>code740759</th>\n",
       "      <th>code001139</th>\n",
       "      <th>code460519</th>\n",
       "      <th>code520579</th>\n",
       "      <th>code710739</th>\n",
       "      <th>code760779</th>\n",
       "      <th>code800999</th>\n",
       "      <th>code390459</th>\n",
       "      <th>diabetes</th>\n",
       "      <th>code290319</th>\n",
       "      <th>age</th>\n",
       "      <th>code630679</th>\n",
       "      <th>code580629</th>\n",
       "      <th>code140239</th>\n",
       "    </tr>\n",
       "  </thead>\n",
       "  <tbody>\n",
       "    <tr>\n",
       "      <th>count</th>\n",
       "      <td>9947.000000</td>\n",
       "      <td>9947.000000</td>\n",
       "      <td>9947.000000</td>\n",
       "      <td>9947.000000</td>\n",
       "      <td>9947.000000</td>\n",
       "      <td>9947.000000</td>\n",
       "      <td>9947.00000</td>\n",
       "      <td>9947.000000</td>\n",
       "      <td>9947.000000</td>\n",
       "      <td>9947.000000</td>\n",
       "      <td>9947.000000</td>\n",
       "      <td>9947.000000</td>\n",
       "      <td>9947.000000</td>\n",
       "      <td>9947.000000</td>\n",
       "      <td>9947.000000</td>\n",
       "      <td>9947.000000</td>\n",
       "      <td>9947.000000</td>\n",
       "      <td>9947.000000</td>\n",
       "      <td>9947.000000</td>\n",
       "      <td>9947.000000</td>\n",
       "      <td>9947.000000</td>\n",
       "      <td>9947.000000</td>\n",
       "      <td>9947.000000</td>\n",
       "      <td>9947.000000</td>\n",
       "      <td>9947.000000</td>\n",
       "    </tr>\n",
       "    <tr>\n",
       "      <th>mean</th>\n",
       "      <td>0.095205</td>\n",
       "      <td>124.938675</td>\n",
       "      <td>0.606012</td>\n",
       "      <td>175.304112</td>\n",
       "      <td>0.568915</td>\n",
       "      <td>0.210616</td>\n",
       "      <td>65.76988</td>\n",
       "      <td>0.238162</td>\n",
       "      <td>75.311149</td>\n",
       "      <td>0.205791</td>\n",
       "      <td>32.225797</td>\n",
       "      <td>0.017895</td>\n",
       "      <td>0.206494</td>\n",
       "      <td>0.522972</td>\n",
       "      <td>0.326933</td>\n",
       "      <td>0.506082</td>\n",
       "      <td>0.001005</td>\n",
       "      <td>0.154318</td>\n",
       "      <td>0.532924</td>\n",
       "      <td>0.191414</td>\n",
       "      <td>0.382829</td>\n",
       "      <td>52.585202</td>\n",
       "      <td>0.010656</td>\n",
       "      <td>0.319192</td>\n",
       "      <td>0.079521</td>\n",
       "    </tr>\n",
       "    <tr>\n",
       "      <th>std</th>\n",
       "      <td>0.293512</td>\n",
       "      <td>17.259632</td>\n",
       "      <td>0.488657</td>\n",
       "      <td>44.214842</td>\n",
       "      <td>0.495253</td>\n",
       "      <td>0.407767</td>\n",
       "      <td>4.72825</td>\n",
       "      <td>0.425980</td>\n",
       "      <td>11.055824</td>\n",
       "      <td>0.404299</td>\n",
       "      <td>115.348996</td>\n",
       "      <td>0.132576</td>\n",
       "      <td>0.404810</td>\n",
       "      <td>0.499497</td>\n",
       "      <td>0.469116</td>\n",
       "      <td>0.499988</td>\n",
       "      <td>0.031693</td>\n",
       "      <td>0.361271</td>\n",
       "      <td>0.498940</td>\n",
       "      <td>0.393434</td>\n",
       "      <td>0.486102</td>\n",
       "      <td>17.535396</td>\n",
       "      <td>0.102684</td>\n",
       "      <td>0.466187</td>\n",
       "      <td>0.270565</td>\n",
       "    </tr>\n",
       "    <tr>\n",
       "      <th>min</th>\n",
       "      <td>0.000000</td>\n",
       "      <td>10.000000</td>\n",
       "      <td>0.000000</td>\n",
       "      <td>0.000000</td>\n",
       "      <td>0.000000</td>\n",
       "      <td>0.000000</td>\n",
       "      <td>5.00000</td>\n",
       "      <td>0.000000</td>\n",
       "      <td>0.000000</td>\n",
       "      <td>0.000000</td>\n",
       "      <td>0.000000</td>\n",
       "      <td>0.000000</td>\n",
       "      <td>0.000000</td>\n",
       "      <td>0.000000</td>\n",
       "      <td>0.000000</td>\n",
       "      <td>0.000000</td>\n",
       "      <td>0.000000</td>\n",
       "      <td>0.000000</td>\n",
       "      <td>0.000000</td>\n",
       "      <td>0.000000</td>\n",
       "      <td>0.000000</td>\n",
       "      <td>15.000000</td>\n",
       "      <td>0.000000</td>\n",
       "      <td>0.000000</td>\n",
       "      <td>0.000000</td>\n",
       "    </tr>\n",
       "    <tr>\n",
       "      <th>25%</th>\n",
       "      <td>0.000000</td>\n",
       "      <td>115.000000</td>\n",
       "      <td>0.000000</td>\n",
       "      <td>140.000000</td>\n",
       "      <td>0.000000</td>\n",
       "      <td>0.000000</td>\n",
       "      <td>63.00000</td>\n",
       "      <td>0.000000</td>\n",
       "      <td>70.000000</td>\n",
       "      <td>0.000000</td>\n",
       "      <td>24.000000</td>\n",
       "      <td>0.000000</td>\n",
       "      <td>0.000000</td>\n",
       "      <td>0.000000</td>\n",
       "      <td>0.000000</td>\n",
       "      <td>0.000000</td>\n",
       "      <td>0.000000</td>\n",
       "      <td>0.000000</td>\n",
       "      <td>0.000000</td>\n",
       "      <td>0.000000</td>\n",
       "      <td>0.000000</td>\n",
       "      <td>40.000000</td>\n",
       "      <td>0.000000</td>\n",
       "      <td>0.000000</td>\n",
       "      <td>0.000000</td>\n",
       "    </tr>\n",
       "    <tr>\n",
       "      <th>50%</th>\n",
       "      <td>0.000000</td>\n",
       "      <td>125.000000</td>\n",
       "      <td>1.000000</td>\n",
       "      <td>170.000000</td>\n",
       "      <td>1.000000</td>\n",
       "      <td>0.000000</td>\n",
       "      <td>66.00000</td>\n",
       "      <td>0.000000</td>\n",
       "      <td>75.000000</td>\n",
       "      <td>0.000000</td>\n",
       "      <td>28.000000</td>\n",
       "      <td>0.000000</td>\n",
       "      <td>0.000000</td>\n",
       "      <td>1.000000</td>\n",
       "      <td>0.000000</td>\n",
       "      <td>1.000000</td>\n",
       "      <td>0.000000</td>\n",
       "      <td>0.000000</td>\n",
       "      <td>1.000000</td>\n",
       "      <td>0.000000</td>\n",
       "      <td>0.000000</td>\n",
       "      <td>55.000000</td>\n",
       "      <td>0.000000</td>\n",
       "      <td>0.000000</td>\n",
       "      <td>0.000000</td>\n",
       "    </tr>\n",
       "    <tr>\n",
       "      <th>75%</th>\n",
       "      <td>0.000000</td>\n",
       "      <td>135.000000</td>\n",
       "      <td>1.000000</td>\n",
       "      <td>200.000000</td>\n",
       "      <td>1.000000</td>\n",
       "      <td>0.000000</td>\n",
       "      <td>69.00000</td>\n",
       "      <td>0.000000</td>\n",
       "      <td>80.000000</td>\n",
       "      <td>0.000000</td>\n",
       "      <td>32.000000</td>\n",
       "      <td>0.000000</td>\n",
       "      <td>0.000000</td>\n",
       "      <td>1.000000</td>\n",
       "      <td>1.000000</td>\n",
       "      <td>1.000000</td>\n",
       "      <td>0.000000</td>\n",
       "      <td>0.000000</td>\n",
       "      <td>1.000000</td>\n",
       "      <td>0.000000</td>\n",
       "      <td>1.000000</td>\n",
       "      <td>65.000000</td>\n",
       "      <td>0.000000</td>\n",
       "      <td>1.000000</td>\n",
       "      <td>0.000000</td>\n",
       "    </tr>\n",
       "    <tr>\n",
       "      <th>max</th>\n",
       "      <td>1.000000</td>\n",
       "      <td>220.000000</td>\n",
       "      <td>1.000000</td>\n",
       "      <td>590.000000</td>\n",
       "      <td>1.000000</td>\n",
       "      <td>1.000000</td>\n",
       "      <td>112.00000</td>\n",
       "      <td>1.000000</td>\n",
       "      <td>145.000000</td>\n",
       "      <td>1.000000</td>\n",
       "      <td>4629.000000</td>\n",
       "      <td>1.000000</td>\n",
       "      <td>1.000000</td>\n",
       "      <td>1.000000</td>\n",
       "      <td>1.000000</td>\n",
       "      <td>1.000000</td>\n",
       "      <td>1.000000</td>\n",
       "      <td>1.000000</td>\n",
       "      <td>1.000000</td>\n",
       "      <td>1.000000</td>\n",
       "      <td>1.000000</td>\n",
       "      <td>90.000000</td>\n",
       "      <td>1.000000</td>\n",
       "      <td>1.000000</td>\n",
       "      <td>1.000000</td>\n",
       "    </tr>\n",
       "  </tbody>\n",
       "</table>\n",
       "</div>"
      ],
      "text/plain": [
       "        code280289          sBP   code240279       weight   code780799  \\\n",
       "count  9947.000000  9947.000000  9947.000000  9947.000000  9947.000000   \n",
       "mean      0.095205   124.938675     0.606012   175.304112     0.568915   \n",
       "std       0.293512    17.259632     0.488657    44.214842     0.495253   \n",
       "min       0.000000    10.000000     0.000000     0.000000     0.000000   \n",
       "25%       0.000000   115.000000     0.000000   140.000000     0.000000   \n",
       "50%       0.000000   125.000000     1.000000   170.000000     1.000000   \n",
       "75%       0.000000   135.000000     1.000000   200.000000     1.000000   \n",
       "max       1.000000   220.000000     1.000000   590.000000     1.000000   \n",
       "\n",
       "        code360389      height   code680709          dBP   code320359  \\\n",
       "count  9947.000000  9947.00000  9947.000000  9947.000000  9947.000000   \n",
       "mean      0.210616    65.76988     0.238162    75.311149     0.205791   \n",
       "std       0.407767     4.72825     0.425980    11.055824     0.404299   \n",
       "min       0.000000     5.00000     0.000000     0.000000     0.000000   \n",
       "25%       0.000000    63.00000     0.000000    70.000000     0.000000   \n",
       "50%       0.000000    66.00000     0.000000    75.000000     0.000000   \n",
       "75%       0.000000    69.00000     0.000000    80.000000     0.000000   \n",
       "max       1.000000   112.00000     1.000000   145.000000     1.000000   \n",
       "\n",
       "               BMI   code740759   code001139   code460519   code520579  \\\n",
       "count  9947.000000  9947.000000  9947.000000  9947.000000  9947.000000   \n",
       "mean     32.225797     0.017895     0.206494     0.522972     0.326933   \n",
       "std     115.348996     0.132576     0.404810     0.499497     0.469116   \n",
       "min       0.000000     0.000000     0.000000     0.000000     0.000000   \n",
       "25%      24.000000     0.000000     0.000000     0.000000     0.000000   \n",
       "50%      28.000000     0.000000     0.000000     1.000000     0.000000   \n",
       "75%      32.000000     0.000000     0.000000     1.000000     1.000000   \n",
       "max    4629.000000     1.000000     1.000000     1.000000     1.000000   \n",
       "\n",
       "        code710739   code760779   code800999   code390459     diabetes  \\\n",
       "count  9947.000000  9947.000000  9947.000000  9947.000000  9947.000000   \n",
       "mean      0.506082     0.001005     0.154318     0.532924     0.191414   \n",
       "std       0.499988     0.031693     0.361271     0.498940     0.393434   \n",
       "min       0.000000     0.000000     0.000000     0.000000     0.000000   \n",
       "25%       0.000000     0.000000     0.000000     0.000000     0.000000   \n",
       "50%       1.000000     0.000000     0.000000     1.000000     0.000000   \n",
       "75%       1.000000     0.000000     0.000000     1.000000     0.000000   \n",
       "max       1.000000     1.000000     1.000000     1.000000     1.000000   \n",
       "\n",
       "        code290319          age   code630679   code580629   code140239  \n",
       "count  9947.000000  9947.000000  9947.000000  9947.000000  9947.000000  \n",
       "mean      0.382829    52.585202     0.010656     0.319192     0.079521  \n",
       "std       0.486102    17.535396     0.102684     0.466187     0.270565  \n",
       "min       0.000000    15.000000     0.000000     0.000000     0.000000  \n",
       "25%       0.000000    40.000000     0.000000     0.000000     0.000000  \n",
       "50%       0.000000    55.000000     0.000000     0.000000     0.000000  \n",
       "75%       1.000000    65.000000     0.000000     1.000000     0.000000  \n",
       "max       1.000000    90.000000     1.000000     1.000000     1.000000  "
      ]
     },
     "execution_count": 5,
     "metadata": {},
     "output_type": "execute_result"
    }
   ],
   "source": [
    "print('# of rows', len(indata))\n",
    "print('# of columns', len(indata.columns))\n",
    "pd.set_option('display.max_columns', 27)\n",
    "pd.set_option('display.max_rows', 9948)\n",
    "indata.describe()"
   ]
  },
  {
   "cell_type": "code",
   "execution_count": 6,
   "metadata": {
    "collapsed": true
   },
   "outputs": [],
   "source": [
    "# pd.reset_option('display.max_columns')\n",
    "pd.reset_option('display.max_rows')"
   ]
  },
  {
   "cell_type": "code",
   "execution_count": 7,
   "metadata": {
    "collapsed": false
   },
   "outputs": [
    {
     "name": "stdout",
     "output_type": "stream",
     "text": [
      "# of missing data 0\n"
     ]
    }
   ],
   "source": [
    "#Checking for missing data\n",
    "print('# of missing data', indata.isnull().any().sum())"
   ]
  },
  {
   "cell_type": "code",
   "execution_count": 8,
   "metadata": {
    "collapsed": false,
    "scrolled": true
   },
   "outputs": [
    {
     "data": {
      "text/html": [
       "<div>\n",
       "<table border=\"1\" class=\"dataframe\">\n",
       "  <thead>\n",
       "    <tr style=\"text-align: right;\">\n",
       "      <th></th>\n",
       "      <th>Datatype</th>\n",
       "      <th>Levels</th>\n",
       "      <th>Variable</th>\n",
       "    </tr>\n",
       "  </thead>\n",
       "  <tbody>\n",
       "    <tr>\n",
       "      <th>0</th>\n",
       "      <td>int64</td>\n",
       "      <td>2</td>\n",
       "      <td>code280289</td>\n",
       "    </tr>\n",
       "    <tr>\n",
       "      <th>24</th>\n",
       "      <td>int64</td>\n",
       "      <td>2</td>\n",
       "      <td>code630679</td>\n",
       "    </tr>\n",
       "    <tr>\n",
       "      <th>22</th>\n",
       "      <td>object</td>\n",
       "      <td>2</td>\n",
       "      <td>gender</td>\n",
       "    </tr>\n",
       "    <tr>\n",
       "      <th>21</th>\n",
       "      <td>int64</td>\n",
       "      <td>2</td>\n",
       "      <td>code290319</td>\n",
       "    </tr>\n",
       "    <tr>\n",
       "      <th>20</th>\n",
       "      <td>int64</td>\n",
       "      <td>2</td>\n",
       "      <td>diabetes</td>\n",
       "    </tr>\n",
       "    <tr>\n",
       "      <th>19</th>\n",
       "      <td>int64</td>\n",
       "      <td>2</td>\n",
       "      <td>code390459</td>\n",
       "    </tr>\n",
       "    <tr>\n",
       "      <th>18</th>\n",
       "      <td>int64</td>\n",
       "      <td>2</td>\n",
       "      <td>code800999</td>\n",
       "    </tr>\n",
       "    <tr>\n",
       "      <th>17</th>\n",
       "      <td>int64</td>\n",
       "      <td>2</td>\n",
       "      <td>code760779</td>\n",
       "    </tr>\n",
       "    <tr>\n",
       "      <th>16</th>\n",
       "      <td>int64</td>\n",
       "      <td>2</td>\n",
       "      <td>code710739</td>\n",
       "    </tr>\n",
       "    <tr>\n",
       "      <th>15</th>\n",
       "      <td>int64</td>\n",
       "      <td>2</td>\n",
       "      <td>code520579</td>\n",
       "    </tr>\n",
       "    <tr>\n",
       "      <th>14</th>\n",
       "      <td>int64</td>\n",
       "      <td>2</td>\n",
       "      <td>code460519</td>\n",
       "    </tr>\n",
       "    <tr>\n",
       "      <th>25</th>\n",
       "      <td>int64</td>\n",
       "      <td>2</td>\n",
       "      <td>code580629</td>\n",
       "    </tr>\n",
       "    <tr>\n",
       "      <th>13</th>\n",
       "      <td>int64</td>\n",
       "      <td>2</td>\n",
       "      <td>code001139</td>\n",
       "    </tr>\n",
       "    <tr>\n",
       "      <th>9</th>\n",
       "      <td>int64</td>\n",
       "      <td>2</td>\n",
       "      <td>code320359</td>\n",
       "    </tr>\n",
       "    <tr>\n",
       "      <th>7</th>\n",
       "      <td>int64</td>\n",
       "      <td>2</td>\n",
       "      <td>code680709</td>\n",
       "    </tr>\n",
       "    <tr>\n",
       "      <th>5</th>\n",
       "      <td>int64</td>\n",
       "      <td>2</td>\n",
       "      <td>code360389</td>\n",
       "    </tr>\n",
       "    <tr>\n",
       "      <th>4</th>\n",
       "      <td>int64</td>\n",
       "      <td>2</td>\n",
       "      <td>code780799</td>\n",
       "    </tr>\n",
       "    <tr>\n",
       "      <th>2</th>\n",
       "      <td>int64</td>\n",
       "      <td>2</td>\n",
       "      <td>code240279</td>\n",
       "    </tr>\n",
       "    <tr>\n",
       "      <th>12</th>\n",
       "      <td>int64</td>\n",
       "      <td>2</td>\n",
       "      <td>code740759</td>\n",
       "    </tr>\n",
       "    <tr>\n",
       "      <th>26</th>\n",
       "      <td>int64</td>\n",
       "      <td>2</td>\n",
       "      <td>code140239</td>\n",
       "    </tr>\n",
       "    <tr>\n",
       "      <th>23</th>\n",
       "      <td>int64</td>\n",
       "      <td>16</td>\n",
       "      <td>age</td>\n",
       "    </tr>\n",
       "    <tr>\n",
       "      <th>8</th>\n",
       "      <td>int64</td>\n",
       "      <td>26</td>\n",
       "      <td>dBP</td>\n",
       "    </tr>\n",
       "    <tr>\n",
       "      <th>1</th>\n",
       "      <td>int64</td>\n",
       "      <td>34</td>\n",
       "      <td>sBP</td>\n",
       "    </tr>\n",
       "    <tr>\n",
       "      <th>3</th>\n",
       "      <td>int64</td>\n",
       "      <td>40</td>\n",
       "      <td>weight</td>\n",
       "    </tr>\n",
       "    <tr>\n",
       "      <th>6</th>\n",
       "      <td>int64</td>\n",
       "      <td>44</td>\n",
       "      <td>height</td>\n",
       "    </tr>\n",
       "    <tr>\n",
       "      <th>11</th>\n",
       "      <td>object</td>\n",
       "      <td>51</td>\n",
       "      <td>state</td>\n",
       "    </tr>\n",
       "    <tr>\n",
       "      <th>10</th>\n",
       "      <td>int64</td>\n",
       "      <td>76</td>\n",
       "      <td>BMI</td>\n",
       "    </tr>\n",
       "  </tbody>\n",
       "</table>\n",
       "</div>"
      ],
      "text/plain": [
       "   Datatype  Levels    Variable\n",
       "0     int64       2  code280289\n",
       "24    int64       2  code630679\n",
       "22   object       2      gender\n",
       "21    int64       2  code290319\n",
       "20    int64       2    diabetes\n",
       "19    int64       2  code390459\n",
       "18    int64       2  code800999\n",
       "17    int64       2  code760779\n",
       "16    int64       2  code710739\n",
       "15    int64       2  code520579\n",
       "14    int64       2  code460519\n",
       "25    int64       2  code580629\n",
       "13    int64       2  code001139\n",
       "9     int64       2  code320359\n",
       "7     int64       2  code680709\n",
       "5     int64       2  code360389\n",
       "4     int64       2  code780799\n",
       "2     int64       2  code240279\n",
       "12    int64       2  code740759\n",
       "26    int64       2  code140239\n",
       "23    int64      16         age\n",
       "8     int64      26         dBP\n",
       "1     int64      34         sBP\n",
       "3     int64      40      weight\n",
       "6     int64      44      height\n",
       "11   object      51       state\n",
       "10    int64      76         BMI"
      ]
     },
     "execution_count": 8,
     "metadata": {},
     "output_type": "execute_result"
    }
   ],
   "source": [
    "describe_more(indata)"
   ]
  },
  {
   "cell_type": "code",
   "execution_count": 15,
   "metadata": {
    "collapsed": true
   },
   "outputs": [],
   "source": [
    "from sklearn import preprocessing\n",
    "\n",
    "for f in indata.columns:\n",
    "    if indata[f].dtype == 'object':\n",
    "        lbl = preprocessing.LabelEncoder()\n",
    "        lbl.fit(np.unique(list(indata[f].values)))\n",
    "        indata[f] = lbl.transform(list(indata[f].values))"
   ]
  },
  {
   "cell_type": "code",
   "execution_count": 9,
   "metadata": {
    "collapsed": false,
    "scrolled": true
   },
   "outputs": [
    {
     "data": {
      "text/plain": [
       "<matplotlib.axes._subplots.AxesSubplot at 0x7fdd80dfc5c0>"
      ]
     },
     "execution_count": 9,
     "metadata": {},
     "output_type": "execute_result"
    },
    {
     "data": {
      "image/png": "[encoded data removed]",
      "text/plain": [
       "<matplotlib.figure.Figure at 0x7fdd80d919e8>"
      ]
     },
     "metadata": {},
     "output_type": "display_data"
    }
   ],
   "source": [
    "sns.heatmap(indata.corr())"
   ]
  },
  {
   "cell_type": "code",
   "execution_count": 10,
   "metadata": {
    "collapsed": false
   },
   "outputs": [
    {
     "data": {
      "image/png": "[encoded data removed]",
      "text/plain": [
       "<matplotlib.figure.Figure at 0x7fdd80ae7ac8>"
      ]
     },
     "metadata": {},
     "output_type": "display_data"
    }
   ],
   "source": [
    "count = indata.groupby('height').height.count()\n",
    "\n",
    "values = count.values\n",
    "indx   = count.index\n",
    "# print(indx)\n",
    "# print(values)\n",
    "# print(sum(values))\n",
    "\n",
    "mean = sum(values)/len(indx)\n",
    "variance = np.sqrt(sum((values-mean)**2)/len(indx))\n",
    "\n",
    "plt.bar(indx, values)\n",
    "plt.title('Heights per individual')\n",
    "plt.xticks(rotation='horizontal')\n",
    "plt.show()"
   ]
  },
  {
   "cell_type": "code",
   "execution_count": 11,
   "metadata": {
    "collapsed": false
   },
   "outputs": [
    {
     "data": {
      "image/png": "[encoded data removed]",
      "text/plain": [
       "<matplotlib.figure.Figure at 0x7fdd80a464a8>"
      ]
     },
     "metadata": {},
     "output_type": "display_data"
    }
   ],
   "source": [
    "count = indata.groupby('weight').weight.count()\n",
    "\n",
    "values = count.values\n",
    "indx   = count.index\n",
    "\n",
    "mean = sum(values)/len(indx)\n",
    "variance = np.sqrt(sum((values-mean)**2)/len(indx))\n",
    "\n",
    "plt.bar(indx, values)\n",
    "plt.title('Weight per individual')\n",
    "plt.xticks(rotation='horizontal')\n",
    "plt.show()"
   ]
  },
  {
   "cell_type": "code",
   "execution_count": 12,
   "metadata": {
    "collapsed": false
   },
   "outputs": [
    {
     "data": {
      "image/png": "[encoded data removed]",
      "text/plain": [
       "<matplotlib.figure.Figure at 0x7fdd80aa71d0>"
      ]
     },
     "metadata": {},
     "output_type": "display_data"
    }
   ],
   "source": [
    "count = indata.groupby('age').age.count()\n",
    "\n",
    "values = count.values\n",
    "indx   = count.index\n",
    "# print(indx)\n",
    "# print(values)\n",
    "# print(sum(values))\n",
    "\n",
    "mean = sum(values)/len(indx)\n",
    "variance = np.sqrt(sum((values-mean)**2)/len(indx))\n",
    "\n",
    "plt.bar(indx, values)\n",
    "plt.title('Age per individual')\n",
    "plt.xticks(rotation='horizontal')\n",
    "plt.show()"
   ]
  },
  {
   "cell_type": "code",
   "execution_count": 13,
   "metadata": {
    "collapsed": false
   },
   "outputs": [
    {
     "data": {
      "image/png": "[encoded data removed]",
      "text/plain": [
       "<matplotlib.figure.Figure at 0x7fdd80aa7b00>"
      ]
     },
     "metadata": {},
     "output_type": "display_data"
    }
   ],
   "source": [
    "count = indata.groupby('BMI').BMI.count()\n",
    "\n",
    "values = count.values\n",
    "indx   = count.index\n",
    "\n",
    "mean = sum(values)/len(indx)\n",
    "variance = np.sqrt(sum((values-mean)**2)/len(indx))\n",
    "\n",
    "plt.bar(indx, values)\n",
    "plt.title('BMI per individual')\n",
    "plt.xticks(rotation='horizontal')\n",
    "plt.show()"
   ]
  },
  {
   "cell_type": "code",
   "execution_count": 16,
   "metadata": {
    "collapsed": false
   },
   "outputs": [
    {
     "data": {
      "image/png": "[encoded data removed]",
      "text/plain": [
       "<matplotlib.figure.Figure at 0x7fdd7c1e07b8>"
      ]
     },
     "metadata": {},
     "output_type": "display_data"
    }
   ],
   "source": [
    "count = indata.groupby('state').state.count()\n",
    "\n",
    "values = count.values\n",
    "indx   = count.index\n",
    "\n",
    "mean = sum(values)/len(indx)\n",
    "variance = np.sqrt(sum((values-mean)**2)/len(indx))\n",
    "\n",
    "plt.bar(indx, values)\n",
    "plt.title('States')\n",
    "plt.xticks(rotation='horizontal')\n",
    "plt.show()"
   ]
  },
  {
   "cell_type": "code",
   "execution_count": 23,
   "metadata": {
    "collapsed": false
   },
   "outputs": [
    {
     "name": "stdout",
     "output_type": "stream",
     "text": [
      "code280289     0\n",
      "sBP           10\n",
      "code240279     0\n",
      "weight         0\n",
      "code780799     0\n",
      "code360389     0\n",
      "height         5\n",
      "code680709     0\n",
      "dBP            0\n",
      "code320359     0\n",
      "BMI            0\n",
      "state          0\n",
      "code740759     0\n",
      "code001139     0\n",
      "code460519     0\n",
      "code520579     0\n",
      "code710739     0\n",
      "code760779     0\n",
      "code800999     0\n",
      "code390459     0\n",
      "diabetes       0\n",
      "code290319     0\n",
      "gender         0\n",
      "age           15\n",
      "code630679     0\n",
      "code580629     0\n",
      "code140239     0\n",
      "dtype: int64\n",
      "code280289       1\n",
      "sBP            220\n",
      "code240279       1\n",
      "weight         590\n",
      "code780799       1\n",
      "code360389       1\n",
      "height         112\n",
      "code680709       1\n",
      "dBP            145\n",
      "code320359       1\n",
      "BMI           4629\n",
      "state           50\n",
      "code740759       1\n",
      "code001139       1\n",
      "code460519       1\n",
      "code520579       1\n",
      "code710739       1\n",
      "code760779       1\n",
      "code800999       1\n",
      "code390459       1\n",
      "diabetes         1\n",
      "code290319       1\n",
      "gender           1\n",
      "age             90\n",
      "code630679       1\n",
      "code580629       1\n",
      "code140239       1\n",
      "dtype: int64\n",
      "code280289       0\n",
      "sBP            817\n",
      "code240279       7\n",
      "weight        3502\n",
      "code780799       0\n",
      "code360389       0\n",
      "height          14\n",
      "code680709       0\n",
      "dBP            330\n",
      "code320359       0\n",
      "BMI           8809\n",
      "state         2299\n",
      "code740759       0\n",
      "code001139       0\n",
      "code460519       0\n",
      "code520579       0\n",
      "code710739       0\n",
      "code760779       0\n",
      "code800999       0\n",
      "code390459       0\n",
      "diabetes         0\n",
      "code290319       0\n",
      "gender           1\n",
      "age            278\n",
      "code630679       0\n",
      "code580629       0\n",
      "code140239       1\n",
      "dtype: int64\n",
      "code280289       6\n",
      "sBP           5687\n",
      "code240279       0\n",
      "weight         384\n",
      "code780799       1\n",
      "code360389       4\n",
      "height        4292\n",
      "code680709       5\n",
      "dBP           6612\n",
      "code320359       6\n",
      "BMI            778\n",
      "state         3459\n",
      "code740759      11\n",
      "code001139      11\n",
      "code460519       1\n",
      "code520579       6\n",
      "code710739       1\n",
      "code760779    2020\n",
      "code800999       2\n",
      "code390459       1\n",
      "diabetes         6\n",
      "code290319       6\n",
      "gender           0\n",
      "age             73\n",
      "code630679      87\n",
      "code580629       4\n",
      "code140239       0\n",
      "dtype: int64\n"
     ]
    }
   ],
   "source": [
    "#filter bad values\n",
    "print(indata.min())\n",
    "print(indata.max())\n",
    "print(indata.idxmin())\n",
    "print(indata.idxmax())"
   ]
  },
  {
   "cell_type": "code",
   "execution_count": 20,
   "metadata": {
    "collapsed": false
   },
   "outputs": [
    {
     "name": "stdout",
     "output_type": "stream",
     "text": [
      "height 5\n",
      "weight 110\n",
      "BMI 3166\n",
      "age 55\n"
     ]
    }
   ],
   "source": [
    "r_indx = 14\n",
    "print(\"height\", indata.iloc[r_indx,6])\n",
    "print(\"weight\", indata.iloc[r_indx,3])\n",
    "print(\"BMI\", indata.iloc[r_indx,10])\n",
    "print(\"age\", indata.iloc[r_indx,23])"
   ]
  },
  {
   "cell_type": "code",
   "execution_count": 21,
   "metadata": {
    "collapsed": false
   },
   "outputs": [
    {
     "name": "stdout",
     "output_type": "stream",
     "text": [
      "height 67\n",
      "weight 0\n",
      "BMI 1\n",
      "age 55\n"
     ]
    }
   ],
   "source": [
    "r_indx = 3502\n",
    "print(\"height\", indata.iloc[r_indx,6])\n",
    "print(\"weight\", indata.iloc[r_indx,3])\n",
    "print(\"BMI\", indata.iloc[r_indx,10])\n",
    "print(\"age\", indata.iloc[r_indx,23])"
   ]
  },
  {
   "cell_type": "markdown",
   "metadata": {},
   "source": [
    "Having determined that their are outliers in data, going to do data trimming - based on age, weight and height columns --- as such analysis should only be valid for individuals whose stats lie in this range"
   ]
  },
  {
   "cell_type": "code",
   "execution_count": 28,
   "metadata": {
    "collapsed": false
   },
   "outputs": [
    {
     "name": "stdout",
     "output_type": "stream",
     "text": [
      "15.0\n"
     ]
    },
    {
     "data": {
      "text/html": [
       "<div>\n",
       "<table border=\"1\" class=\"dataframe\">\n",
       "  <thead>\n",
       "    <tr style=\"text-align: right;\">\n",
       "      <th></th>\n",
       "      <th>code280289</th>\n",
       "      <th>sBP</th>\n",
       "      <th>code240279</th>\n",
       "      <th>weight</th>\n",
       "      <th>code780799</th>\n",
       "      <th>code360389</th>\n",
       "      <th>height</th>\n",
       "      <th>code680709</th>\n",
       "      <th>dBP</th>\n",
       "      <th>code320359</th>\n",
       "      <th>BMI</th>\n",
       "      <th>state</th>\n",
       "      <th>code740759</th>\n",
       "      <th>code001139</th>\n",
       "      <th>code460519</th>\n",
       "      <th>code520579</th>\n",
       "      <th>code710739</th>\n",
       "      <th>code760779</th>\n",
       "      <th>code800999</th>\n",
       "      <th>code390459</th>\n",
       "      <th>diabetes</th>\n",
       "      <th>code290319</th>\n",
       "      <th>gender</th>\n",
       "      <th>age</th>\n",
       "      <th>code630679</th>\n",
       "      <th>code580629</th>\n",
       "      <th>code140239</th>\n",
       "    </tr>\n",
       "  </thead>\n",
       "  <tbody>\n",
       "    <tr>\n",
       "      <th>0.002</th>\n",
       "      <td>0.0</td>\n",
       "      <td>80.0</td>\n",
       "      <td>0.0</td>\n",
       "      <td>80.0</td>\n",
       "      <td>0.0</td>\n",
       "      <td>0.0</td>\n",
       "      <td>50.0</td>\n",
       "      <td>0.0</td>\n",
       "      <td>40.00</td>\n",
       "      <td>0.0</td>\n",
       "      <td>14.892</td>\n",
       "      <td>1.0</td>\n",
       "      <td>0.0</td>\n",
       "      <td>0.0</td>\n",
       "      <td>0.0</td>\n",
       "      <td>0.0</td>\n",
       "      <td>0.0</td>\n",
       "      <td>0.0</td>\n",
       "      <td>0.0</td>\n",
       "      <td>0.0</td>\n",
       "      <td>0.0</td>\n",
       "      <td>0.0</td>\n",
       "      <td>0.0</td>\n",
       "      <td>15.0</td>\n",
       "      <td>0.0</td>\n",
       "      <td>0.0</td>\n",
       "      <td>0.0</td>\n",
       "    </tr>\n",
       "    <tr>\n",
       "      <th>0.998</th>\n",
       "      <td>1.0</td>\n",
       "      <td>195.0</td>\n",
       "      <td>1.0</td>\n",
       "      <td>320.0</td>\n",
       "      <td>1.0</td>\n",
       "      <td>1.0</td>\n",
       "      <td>77.0</td>\n",
       "      <td>1.0</td>\n",
       "      <td>115.54</td>\n",
       "      <td>1.0</td>\n",
       "      <td>58.216</td>\n",
       "      <td>49.0</td>\n",
       "      <td>1.0</td>\n",
       "      <td>1.0</td>\n",
       "      <td>1.0</td>\n",
       "      <td>1.0</td>\n",
       "      <td>1.0</td>\n",
       "      <td>0.0</td>\n",
       "      <td>1.0</td>\n",
       "      <td>1.0</td>\n",
       "      <td>1.0</td>\n",
       "      <td>1.0</td>\n",
       "      <td>1.0</td>\n",
       "      <td>90.0</td>\n",
       "      <td>1.0</td>\n",
       "      <td>1.0</td>\n",
       "      <td>1.0</td>\n",
       "    </tr>\n",
       "  </tbody>\n",
       "</table>\n",
       "</div>"
      ],
      "text/plain": [
       "       code280289    sBP  code240279  weight  code780799  code360389  height  \\\n",
       "0.002         0.0   80.0         0.0    80.0         0.0         0.0    50.0   \n",
       "0.998         1.0  195.0         1.0   320.0         1.0         1.0    77.0   \n",
       "\n",
       "       code680709     dBP  code320359     BMI  state  code740759  code001139  \\\n",
       "0.002         0.0   40.00         0.0  14.892    1.0         0.0         0.0   \n",
       "0.998         1.0  115.54         1.0  58.216   49.0         1.0         1.0   \n",
       "\n",
       "       code460519  code520579  code710739  code760779  code800999  code390459  \\\n",
       "0.002         0.0         0.0         0.0         0.0         0.0         0.0   \n",
       "0.998         1.0         1.0         1.0         0.0         1.0         1.0   \n",
       "\n",
       "       diabetes  code290319  gender   age  code630679  code580629  code140239  \n",
       "0.002       0.0         0.0     0.0  15.0         0.0         0.0         0.0  \n",
       "0.998       1.0         1.0     1.0  90.0         1.0         1.0         1.0  "
      ]
     },
     "execution_count": 28,
     "metadata": {},
     "output_type": "execute_result"
    }
   ],
   "source": [
    "#To check for outlier points\n",
    "\n",
    "low = .002\n",
    "high = .998\n",
    "qdf = indata.quantile([low, high])\n",
    "\n",
    "print(qdf.loc[low,'age'])\n",
    "qdf"
   ]
  },
  {
   "cell_type": "code",
   "execution_count": 29,
   "metadata": {
    "collapsed": true
   },
   "outputs": [],
   "source": [
    "from scipy import stats\n",
    "df = indata.copy()\n",
    "df = df[(np.abs(stats.zscore(df)) < 3.6).all(axis=1)].copy()"
   ]
  },
  {
   "cell_type": "code",
   "execution_count": 30,
   "metadata": {
    "collapsed": false
   },
   "outputs": [
    {
     "name": "stdout",
     "output_type": "stream",
     "text": [
      "15.0\n"
     ]
    },
    {
     "data": {
      "text/html": [
       "<div>\n",
       "<table border=\"1\" class=\"dataframe\">\n",
       "  <thead>\n",
       "    <tr style=\"text-align: right;\">\n",
       "      <th></th>\n",
       "      <th>code280289</th>\n",
       "      <th>sBP</th>\n",
       "      <th>code240279</th>\n",
       "      <th>weight</th>\n",
       "      <th>code780799</th>\n",
       "      <th>code360389</th>\n",
       "      <th>height</th>\n",
       "      <th>code680709</th>\n",
       "      <th>dBP</th>\n",
       "      <th>code320359</th>\n",
       "      <th>BMI</th>\n",
       "      <th>state</th>\n",
       "      <th>code740759</th>\n",
       "      <th>code001139</th>\n",
       "      <th>code460519</th>\n",
       "      <th>code520579</th>\n",
       "      <th>code710739</th>\n",
       "      <th>code760779</th>\n",
       "      <th>code800999</th>\n",
       "      <th>code390459</th>\n",
       "      <th>diabetes</th>\n",
       "      <th>code290319</th>\n",
       "      <th>gender</th>\n",
       "      <th>age</th>\n",
       "      <th>code630679</th>\n",
       "      <th>code580629</th>\n",
       "      <th>code140239</th>\n",
       "    </tr>\n",
       "  </thead>\n",
       "  <tbody>\n",
       "    <tr>\n",
       "      <th>0.002</th>\n",
       "      <td>0.0</td>\n",
       "      <td>85.0</td>\n",
       "      <td>0.0</td>\n",
       "      <td>80.0</td>\n",
       "      <td>0.0</td>\n",
       "      <td>0.0</td>\n",
       "      <td>54.118</td>\n",
       "      <td>0.0</td>\n",
       "      <td>45.0</td>\n",
       "      <td>0.0</td>\n",
       "      <td>15.0</td>\n",
       "      <td>1.0</td>\n",
       "      <td>0.0</td>\n",
       "      <td>0.0</td>\n",
       "      <td>0.0</td>\n",
       "      <td>0.0</td>\n",
       "      <td>0.0</td>\n",
       "      <td>0.0</td>\n",
       "      <td>0.0</td>\n",
       "      <td>0.0</td>\n",
       "      <td>0.0</td>\n",
       "      <td>0.0</td>\n",
       "      <td>0.0</td>\n",
       "      <td>15.0</td>\n",
       "      <td>0.0</td>\n",
       "      <td>0.0</td>\n",
       "      <td>0.0</td>\n",
       "    </tr>\n",
       "    <tr>\n",
       "      <th>0.998</th>\n",
       "      <td>1.0</td>\n",
       "      <td>180.0</td>\n",
       "      <td>1.0</td>\n",
       "      <td>310.0</td>\n",
       "      <td>1.0</td>\n",
       "      <td>1.0</td>\n",
       "      <td>77.000</td>\n",
       "      <td>1.0</td>\n",
       "      <td>110.0</td>\n",
       "      <td>1.0</td>\n",
       "      <td>50.0</td>\n",
       "      <td>49.0</td>\n",
       "      <td>0.0</td>\n",
       "      <td>1.0</td>\n",
       "      <td>1.0</td>\n",
       "      <td>1.0</td>\n",
       "      <td>1.0</td>\n",
       "      <td>0.0</td>\n",
       "      <td>1.0</td>\n",
       "      <td>1.0</td>\n",
       "      <td>1.0</td>\n",
       "      <td>1.0</td>\n",
       "      <td>1.0</td>\n",
       "      <td>90.0</td>\n",
       "      <td>0.0</td>\n",
       "      <td>1.0</td>\n",
       "      <td>1.0</td>\n",
       "    </tr>\n",
       "  </tbody>\n",
       "</table>\n",
       "</div>"
      ],
      "text/plain": [
       "       code280289    sBP  code240279  weight  code780799  code360389  height  \\\n",
       "0.002         0.0   85.0         0.0    80.0         0.0         0.0  54.118   \n",
       "0.998         1.0  180.0         1.0   310.0         1.0         1.0  77.000   \n",
       "\n",
       "       code680709    dBP  code320359   BMI  state  code740759  code001139  \\\n",
       "0.002         0.0   45.0         0.0  15.0    1.0         0.0         0.0   \n",
       "0.998         1.0  110.0         1.0  50.0   49.0         0.0         1.0   \n",
       "\n",
       "       code460519  code520579  code710739  code760779  code800999  code390459  \\\n",
       "0.002         0.0         0.0         0.0         0.0         0.0         0.0   \n",
       "0.998         1.0         1.0         1.0         0.0         1.0         1.0   \n",
       "\n",
       "       diabetes  code290319  gender   age  code630679  code580629  code140239  \n",
       "0.002       0.0         0.0     0.0  15.0         0.0         0.0         0.0  \n",
       "0.998       1.0         1.0     1.0  90.0         0.0         1.0         1.0  "
      ]
     },
     "execution_count": 30,
     "metadata": {},
     "output_type": "execute_result"
    }
   ],
   "source": [
    "low = .002\n",
    "high = .998\n",
    "qdf = df.quantile([low, high])\n",
    "\n",
    "print(qdf.loc[low,'age'])\n",
    "qdf"
   ]
  },
  {
   "cell_type": "code",
   "execution_count": 31,
   "metadata": {
    "collapsed": false
   },
   "outputs": [
    {
     "name": "stdout",
     "output_type": "stream",
     "text": [
      "<class 'pandas.core.frame.DataFrame'>\n",
      "Int64Index: 9947 entries, 0 to 992\n",
      "Data columns (total 27 columns):\n",
      "code280289    9947 non-null int64\n",
      "sBP           9947 non-null int64\n",
      "code240279    9947 non-null int64\n",
      "weight        9947 non-null int64\n",
      "code780799    9947 non-null int64\n",
      "code360389    9947 non-null int64\n",
      "height        9947 non-null int64\n",
      "code680709    9947 non-null int64\n",
      "dBP           9947 non-null int64\n",
      "code320359    9947 non-null int64\n",
      "BMI           9947 non-null int64\n",
      "state         9947 non-null int64\n",
      "code740759    9947 non-null int64\n",
      "code001139    9947 non-null int64\n",
      "code460519    9947 non-null int64\n",
      "code520579    9947 non-null int64\n",
      "code710739    9947 non-null int64\n",
      "code760779    9947 non-null int64\n",
      "code800999    9947 non-null int64\n",
      "code390459    9947 non-null int64\n",
      "diabetes      9947 non-null int64\n",
      "code290319    9947 non-null int64\n",
      "gender        9947 non-null int64\n",
      "age           9947 non-null int64\n",
      "code630679    9947 non-null int64\n",
      "code580629    9947 non-null int64\n",
      "code140239    9947 non-null int64\n",
      "dtypes: int64(27)\n",
      "memory usage: 2.1 MB\n",
      "<class 'pandas.core.frame.DataFrame'>\n",
      "Int64Index: 9560 entries, 0 to 992\n",
      "Data columns (total 27 columns):\n",
      "code280289    9560 non-null int64\n",
      "sBP           9560 non-null int64\n",
      "code240279    9560 non-null int64\n",
      "weight        9560 non-null int64\n",
      "code780799    9560 non-null int64\n",
      "code360389    9560 non-null int64\n",
      "height        9560 non-null int64\n",
      "code680709    9560 non-null int64\n",
      "dBP           9560 non-null int64\n",
      "code320359    9560 non-null int64\n",
      "BMI           9560 non-null int64\n",
      "state         9560 non-null int64\n",
      "code740759    9560 non-null int64\n",
      "code001139    9560 non-null int64\n",
      "code460519    9560 non-null int64\n",
      "code520579    9560 non-null int64\n",
      "code710739    9560 non-null int64\n",
      "code760779    9560 non-null int64\n",
      "code800999    9560 non-null int64\n",
      "code390459    9560 non-null int64\n",
      "diabetes      9560 non-null int64\n",
      "code290319    9560 non-null int64\n",
      "gender        9560 non-null int64\n",
      "age           9560 non-null int64\n",
      "code630679    9560 non-null int64\n",
      "code580629    9560 non-null int64\n",
      "code140239    9560 non-null int64\n",
      "dtypes: int64(27)\n",
      "memory usage: 2.0 MB\n"
     ]
    }
   ],
   "source": [
    "indata.info()\n",
    "df.info()"
   ]
  },
  {
   "cell_type": "code",
   "execution_count": null,
   "metadata": {
    "collapsed": true
   },
   "outputs": [],
   "source": []
  },
  {
   "cell_type": "code",
   "execution_count": 125,
   "metadata": {
    "collapsed": true
   },
   "outputs": [],
   "source": [
    "from sklearn.model_selection import train_test_split\n",
    "from sklearn.neural_network import MLPClassifier\n",
    "from sklearn.neighbors import KNeighborsClassifier\n",
    "from sklearn.svm import SVC\n",
    "from sklearn.gaussian_process import GaussianProcessClassifier\n",
    "from sklearn.gaussian_process.kernels import RBF\n",
    "from sklearn.tree import DecisionTreeClassifier\n",
    "from sklearn.ensemble import RandomForestClassifier, AdaBoostClassifier\n",
    "from sklearn.naive_bayes import GaussianNB\n",
    "from sklearn.discriminant_analysis import QuadraticDiscriminantAnalysis\n",
    "from sklearn.model_selection import cross_val_score"
   ]
  },
  {
   "cell_type": "code",
   "execution_count": 126,
   "metadata": {
    "collapsed": false
   },
   "outputs": [],
   "source": [
    "X = indata.drop([\"diabetes\",\"state\", \"gender\"],axis=1)\n",
    "y = indata[\"diabetes\"]"
   ]
  },
  {
   "cell_type": "code",
   "execution_count": 127,
   "metadata": {
    "collapsed": true
   },
   "outputs": [],
   "source": [
    "X = indata.drop([\"diabetes\"],axis=1)\n",
    "y = indata[\"diabetes\"]"
   ]
  },
  {
   "cell_type": "code",
   "execution_count": 128,
   "metadata": {
    "collapsed": true
   },
   "outputs": [],
   "source": [
    "X_train, X_test, y_train, y_test = train_test_split(X, y, test_size=0.15, random_state=0)"
   ]
  },
  {
   "cell_type": "code",
   "execution_count": 65,
   "metadata": {
    "collapsed": false
   },
   "outputs": [
    {
     "name": "stdout",
     "output_type": "stream",
     "text": [
      "[ 0.73878098  0.73141326  0.70911528  0.74916164  0.73105298]\n"
     ]
    }
   ],
   "source": [
    "clf = DecisionTreeClassifier()\n",
    "scores = cross_val_score(clf, X_train, y_train, cv=5)\n",
    "print(scores)"
   ]
  },
  {
   "cell_type": "code",
   "execution_count": 129,
   "metadata": {
    "collapsed": false
   },
   "outputs": [
    {
     "name": "stdout",
     "output_type": "stream",
     "text": [
      "[ 0.72738462  0.74384236  0.70935961  0.72951325  0.73998768]\n"
     ]
    }
   ],
   "source": [
    "#after trimming\n",
    "clf = DecisionTreeClassifier()\n",
    "scores = cross_val_score(clf, X_train, y_train, cv=5)\n",
    "print(scores)"
   ]
  },
  {
   "cell_type": "code",
   "execution_count": 76,
   "metadata": {
    "collapsed": false
   },
   "outputs": [
    {
     "name": "stdout",
     "output_type": "stream",
     "text": [
      "[ 0.74704492  0.75399172  0.73979894  0.74319527  0.7295858 ]\n"
     ]
    }
   ],
   "source": [
    "clf = DecisionTreeClassifier()\n",
    "scores = cross_val_score(clf, X_train, y_train, cv=5)\n",
    "print(scores)"
   ]
  },
  {
   "cell_type": "code",
   "execution_count": null,
   "metadata": {
    "collapsed": true
   },
   "outputs": [],
   "source": [
    "names = [\"Nearest Neighbors\", \"Linear SVM\", \"RBF SVM\", \"Decision Tree\", \"Neural Net\", \"AdaBoost\"]\n",
    "classifiers = [\n",
    "    KNeighborsClassifier(),\n",
    "    SVC(kernel=\"linear\"),\n",
    "    SVC(kernel=\"rbf\"),\n",
    "    DecisionTreeClassifier(),\n",
    "    MLPClassifier(),\n",
    "    AdaBoostClassifier()\n",
    "]"
   ]
  },
  {
   "cell_type": "code",
   "execution_count": null,
   "metadata": {
    "collapsed": true
   },
   "outputs": [],
   "source": [
    "from sklearn.model_selection import cross_val_score\n",
    "\n",
    "# iterate over classifiers\n",
    "results = {}\n",
    "for name, clf in zip(names, classifiers):\n",
    "    scores = cross_val_score(clf, X_train, y_train, cv=5)\n",
    "    results[name] = scores\n"
   ]
  },
  {
   "cell_type": "code",
   "execution_count": null,
   "metadata": {
    "collapsed": true
   },
   "outputs": [],
   "source": [
    "for name, scores in results.items():\n",
    "    print(\"%20s | Accuracy: %0.2f%% (+/- %0.2f%%)\" % (name, 100*scores.mean(), 100*scores.std() * 2))"
   ]
  }
 ],
 "metadata": {
  "anaconda-cloud": {},
  "kernelspec": {
   "display_name": "Python 3",
   "language": "python",
   "name": "python3"
  },
  "language_info": {
   "codemirror_mode": {
    "name": "ipython",
    "version": 3
   },
   "file_extension": ".py",
   "mimetype": "text/x-python",
   "name": "python",
   "nbconvert_exporter": "python",
   "pygments_lexer": "ipython3",
   "version": "3.5.2"
  }
 },
 "nbformat": 4,
 "nbformat_minor": 2
}
