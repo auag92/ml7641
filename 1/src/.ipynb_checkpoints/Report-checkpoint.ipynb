{
 "cells": [
  {
   "cell_type": "markdown",
   "metadata": {},
   "source": [
    "# Abstract\n",
    "\n",
    "In this study, we are interested in developing classification methods for predicting patients \n",
    "with Diabetes Type II based on two different sets of health records.  Several common binary classification \n",
    "methods are compared for this task -  \n",
    " - K-Nearest Neighbors, \n",
    " - Decision trees, \n",
    " - SVM, \n",
    " - Boosting, \n",
    " - Neural Nets. \n",
    "\n",
    "For each of these supervised learning models parameter \n",
    "optimization, model complexity and learning rate are \n",
    "evaluated.   \n",
    "\n",
    "# Introduction\n",
    "\n",
    "Type 2 Diabetes Mellitus is a metabolic disorder that is defined by high blood glucose levels due to insulin resistance\n",
    "or an impaired ability to produce insulin,viz. the harmone that helps cells absorb and metabolize glucose from blood stream.\n",
    "\n",
    "As of 2014, as per CDC records, over 22 million people in the United States have diabetes. If current trends continue, the CDC estimates 1 in 3 U.S. adults could have diabetes by 2050. Type 2 diabetes is responsible for 90% of all diabetes cases. Hereafter, we will abbreviate type 2 diabetes as diabetes. \n",
    "\n",
    "Diabetes increases the risk of blindness, kidney failure, heart disease and stroke. It is especially prevalent in racial groups with low access to healthcare, such as Native Americans (15.9%), African Americans (13.2%) and Hispanics (12.8%) [6]. An estimated 27.8% of people with Diabetes Mellitus Type II in the United States are undiagnosed. \n",
    "\n",
    "\n",
    "\n",
    "\n",
    "In order to improve diagnosis methodologies,\n",
    "supervised and unsupervised machine learning algorithms\n",
    "trained on electronic medical records (EMR)\n",
    "were implemented and evaluated for effectiveness."
   ]
  }
 ],
 "metadata": {
  "anaconda-cloud": {},
  "kernelspec": {
   "display_name": "Python [default]",
   "language": "python",
   "name": "python3"
  },
  "language_info": {
   "codemirror_mode": {
    "name": "ipython",
    "version": 3
   },
   "file_extension": ".py",
   "mimetype": "text/x-python",
   "name": "python",
   "nbconvert_exporter": "python",
   "pygments_lexer": "ipython3",
   "version": "3.5.2"
  }
 },
 "nbformat": 4,
 "nbformat_minor": 1
}
