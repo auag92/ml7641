{
 "cells": [
  {
   "cell_type": "code",
   "execution_count": 2,
   "metadata": {
    "collapsed": false
   },
   "outputs": [],
   "source": [
    "#ignore warnings\n",
    "import warnings\n",
    "warnings.filterwarnings('ignore')\n",
    "\n",
    "#for table-like data and matrices\n",
    "import numpy as np\n",
    "import pandas as pd\n",
    "\n",
    "#Visualisation\n",
    "import matplotlib as mpl\n",
    "import matplotlib.pylab as pylab\n",
    "import matplotlib.pyplot as plt\n",
    "import seaborn as sns\n",
    "\n",
    "import datetime\n",
    "\n"
   ]
  },
  {
   "cell_type": "code",
   "execution_count": 3,
   "metadata": {
    "collapsed": false,
    "scrolled": true
   },
   "outputs": [],
   "source": [
    "indata = pd.read_csv(\"./input/diabetes.csv\")"
   ]
  },
  {
   "cell_type": "code",
   "execution_count": 4,
   "metadata": {
    "collapsed": false,
    "scrolled": true
   },
   "outputs": [
    {
     "name": "stdout",
     "output_type": "stream",
     "text": [
      "# of rows 768\n",
      "# of columns 9\n"
     ]
    }
   ],
   "source": [
    "print('# of rows', len(indata))\n",
    "print('# of columns', len(indata.columns))\n"
   ]
  },
  {
   "cell_type": "markdown",
   "metadata": {},
   "source": [
    "Pre-Processing and Analysis of the data"
   ]
  },
  {
   "cell_type": "code",
   "execution_count": 43,
   "metadata": {
    "collapsed": false
   },
   "outputs": [
    {
     "data": {
      "image/png": "[encoded data removed]",
      "text/plain": [
       "<matplotlib.figure.Figure at 0x7f0ce9d0c898>"
      ]
     },
     "metadata": {},
     "output_type": "display_data"
    }
   ],
   "source": [
    "preg_count = indata.groupby('Pregnancies').Pregnancies.count()\n",
    "\n",
    "values = preg_count.values\n",
    "indx   = preg_count.index\n",
    "# print(indx)\n",
    "# print(values)\n",
    "# print(sum(values))\n",
    "\n",
    "mean = sum(values)/len(indx)\n",
    "variance = np.sqrt(sum((values-mean)**2)/len(indx))\n",
    "\n",
    "plt.bar(indx, values)\n",
    "plt.title('No. of pregnancies per individual')\n",
    "plt.xticks(rotation='horizontal')\n",
    "plt.show()"
   ]
  },
  {
   "cell_type": "code",
   "execution_count": 8,
   "metadata": {
    "collapsed": true
   },
   "outputs": [],
   "source": [
    "f = open(\"/home/grdstu/Documents/Courses/CS7641_ML/Assignments/1/src/input/diabetes.csv\")\n",
    "f.readline()  # skip the header\n",
    "data = np.loadtxt(f, delimiter = ',')\n",
    "X = data[:, :-1]\n",
    "y = data[:, -1]"
   ]
  },
  {
   "cell_type": "code",
   "execution_count": 3,
   "metadata": {
    "collapsed": false
   },
   "outputs": [],
   "source": [
    "from sklearn.model_selection import train_test_split\n",
    "from sklearn.neural_network import MLPClassifier\n",
    "from sklearn.neighbors import KNeighborsClassifier\n",
    "from sklearn.svm import SVC\n",
    "from sklearn.gaussian_process import GaussianProcessClassifier\n",
    "from sklearn.gaussian_process.kernels import RBF\n",
    "from sklearn.tree import DecisionTreeClassifier\n",
    "from sklearn.ensemble import RandomForestClassifier, AdaBoostClassifier\n",
    "from sklearn.naive_bayes import GaussianNB\n",
    "from sklearn.discriminant_analysis import QuadraticDiscriminantAnalysis"
   ]
  },
  {
   "cell_type": "code",
   "execution_count": 4,
   "metadata": {
    "collapsed": false
   },
   "outputs": [],
   "source": [
    "X_train, X_test, y_train, y_test = train_test_split(X, y, test_size=0.25, random_state=0)"
   ]
  },
  {
   "cell_type": "code",
   "execution_count": 5,
   "metadata": {
    "collapsed": true
   },
   "outputs": [],
   "source": [
    "names = [\"Nearest Neighbors\", \"Linear SVM\", \"RBF SVM\", \"Decision Tree\", \"Neural Net\", \"AdaBoost\"]"
   ]
  },
  {
   "cell_type": "code",
   "execution_count": 6,
   "metadata": {
    "collapsed": true
   },
   "outputs": [],
   "source": [
    "classifiers = [\n",
    "    KNeighborsClassifier(),\n",
    "    SVC(kernel=\"linear\"),\n",
    "    SVC(kernel=\"rbf\"),\n",
    "    DecisionTreeClassifier(),\n",
    "    MLPClassifier(),\n",
    "    AdaBoostClassifier()\n",
    "]"
   ]
  },
  {
   "cell_type": "code",
   "execution_count": 7,
   "metadata": {
    "collapsed": true
   },
   "outputs": [],
   "source": [
    "from sklearn.model_selection import cross_val_score\n",
    "\n",
    "# iterate over classifiers\n",
    "results = {}\n",
    "for name, clf in zip(names, classifiers):\n",
    "    scores = cross_val_score(clf, X_train, y_train, cv=5)\n",
    "    results[name] = scores\n"
   ]
  },
  {
   "cell_type": "code",
   "execution_count": 9,
   "metadata": {
    "collapsed": false
   },
   "outputs": [
    {
     "name": "stdout",
     "output_type": "stream",
     "text": [
      "          Linear SVM | Accuracy: 76.04% (+/- 5.58%)\n",
      "       Decision Tree | Accuracy: 66.50% (+/- 5.72%)\n",
      "            AdaBoost | Accuracy: 72.57% (+/- 8.32%)\n",
      "   Nearest Neighbors | Accuracy: 71.18% (+/- 7.56%)\n",
      "          Neural Net | Accuracy: 63.70% (+/- 7.89%)\n",
      "             RBF SVM | Accuracy: 64.24% (+/- 0.44%)\n"
     ]
    }
   ],
   "source": [
    "for name, scores in results.items():\n",
    "    print(\"%20s | Accuracy: %0.2f%% (+/- %0.2f%%)\" % (name, 100*scores.mean(), 100*scores.std() * 2))"
   ]
  },
  {
   "cell_type": "code",
   "execution_count": 17,
   "metadata": {
    "collapsed": false,
    "scrolled": true
   },
   "outputs": [
    {
     "name": "stdout",
     "output_type": "stream",
     "text": [
      "GridSearchCV(cv=None, error_score='raise',\n",
      "       estimator=SVC(C=1.0, cache_size=200, class_weight=None, coef0=0.0,\n",
      "  decision_function_shape=None, degree=3, gamma='auto', kernel='linear',\n",
      "  max_iter=-1, probability=False, random_state=None, shrinking=True,\n",
      "  tol=0.001, verbose=False),\n",
      "       fit_params={}, iid=True, n_jobs=1,\n",
      "       param_grid=[{'C': [0.01, 0.1, 1, 10], 'kernel': ['linear']}],\n",
      "       pre_dispatch='2*n_jobs', refit=True, scoring=None, verbose=0)\n"
     ]
    }
   ],
   "source": [
    "from sklearn.grid_search import GridSearchCV\n",
    "\n",
    "clf = SVC(kernel=\"linear\")\n",
    "\n",
    "# prepare a range of values to test\n",
    "param_grid = [\n",
    "  {'C': [.01, .1, 1, 10], 'kernel': ['linear']},\n",
    " ]\n",
    "\n",
    "grid = GridSearchCV(estimator=clf, param_grid=param_grid)\n",
    "grid.fit(X_train, y_train)\n",
    "print(grid)"
   ]
  },
  {
   "cell_type": "code",
   "execution_count": 18,
   "metadata": {
    "collapsed": false
   },
   "outputs": [
    {
     "name": "stdout",
     "output_type": "stream",
     "text": [
      "Best score: 76.39%\n",
      "Best estimator for parameter C: 0.100000\n"
     ]
    }
   ],
   "source": [
    "# summarize the results of the grid search\n",
    "print(\"Best score: %0.2f%%\" % (100*grid.best_score_))\n",
    "print(\"Best estimator for parameter C: %f\" % (grid.best_estimator_.C))"
   ]
  },
  {
   "cell_type": "code",
   "execution_count": 19,
   "metadata": {
    "collapsed": true
   },
   "outputs": [],
   "source": [
    "clf = SVC(kernel=\"linear\", C=0.1)\n",
    "clf.fit(X_train, y_train)\n",
    "y_eval = clf.predict(X_test)"
   ]
  },
  {
   "cell_type": "code",
   "execution_count": 20,
   "metadata": {
    "collapsed": false
   },
   "outputs": [
    {
     "name": "stdout",
     "output_type": "stream",
     "text": [
      "Accuracy: 80.21%\n"
     ]
    }
   ],
   "source": [
    "acc = sum(y_eval == y_test) / float(len(y_test))\n",
    "print(\"Accuracy: %.2f%%\" % (100*acc))"
   ]
  },
  {
   "cell_type": "code",
   "execution_count": 21,
   "metadata": {
    "collapsed": false
   },
   "outputs": [],
   "source": [
    "clf = SVC(kernel=\"linear\", C=0.1)\n",
    "scores_final = cross_val_score(clf, X, y, cv=5)"
   ]
  },
  {
   "cell_type": "code",
   "execution_count": 22,
   "metadata": {
    "collapsed": false
   },
   "outputs": [
    {
     "name": "stdout",
     "output_type": "stream",
     "text": [
      "Final model | Accuracy: 76.83% (+/- 4.31%)\n"
     ]
    }
   ],
   "source": [
    "scores_final.mean(), scores_final.std()\n",
    "print(\"Final model | Accuracy: %0.2f%% (+/- %0.2f%%)\" % (100*scores_final.mean(), 100*scores_final.std() * 2))"
   ]
  }
 ],
 "metadata": {
  "anaconda-cloud": {},
  "kernelspec": {
   "display_name": "Python 3",
   "language": "python",
   "name": "python3"
  },
  "language_info": {
   "codemirror_mode": {
    "name": "ipython",
    "version": 3
   },
   "file_extension": ".py",
   "mimetype": "text/x-python",
   "name": "python",
   "nbconvert_exporter": "python",
   "pygments_lexer": "ipython3",
   "version": "3.5.2"
  }
 },
 "nbformat": 4,
 "nbformat_minor": 2
}
